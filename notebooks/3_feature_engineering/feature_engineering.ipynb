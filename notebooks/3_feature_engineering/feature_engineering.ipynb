{
 "cells": [
  {
   "attachments": {},
   "cell_type": "markdown",
   "id": "20203c0f",
   "metadata": {},
   "source": [
    "# I. Project Team Members"
   ]
  },
  {
   "attachments": {},
   "cell_type": "markdown",
   "id": "0aa3d7f4",
   "metadata": {},
   "source": [
    "| Prepared by | Email | Prepared for |\n",
    "| :-: | :-: | :-: |\n",
    "| **Hardefa Rogonondo** | hardefarogonondo@gmail.com | **IBRD Credit Scorecard Predictive Engine** |"
   ]
  },
  {
   "attachments": {},
   "cell_type": "markdown",
   "id": "b05cd469",
   "metadata": {},
   "source": [
    "# II. Notebook Target Definition"
   ]
  },
  {
   "attachments": {},
   "cell_type": "markdown",
   "id": "47bae1d2",
   "metadata": {},
   "source": [
    "This notebook describes the Feature Engineering phase of IBRD Credit Scorecard Predictive Engine Project. Here, we take the cleaned and preprocessed loan data and create new features that can enhance our model's predictive power. By applying techniques such as binning, polynomial feature creation, and interaction term generation, we unlock further insights and potentially improve our model's performance. This step readies our data for the next phase of model building and validation."
   ]
  },
  {
   "attachments": {},
   "cell_type": "markdown",
   "id": "3213f42d",
   "metadata": {},
   "source": [
    "# III. Notebook Setup"
   ]
  },
  {
   "attachments": {},
   "cell_type": "markdown",
   "id": "bb5c3810",
   "metadata": {},
   "source": [
    "## III.A. Import Libraries"
   ]
  },
  {
   "cell_type": "code",
   "execution_count": 1,
   "id": "ac84c896",
   "metadata": {},
   "outputs": [],
   "source": [
    "import matplotlib.pyplot as plt\n",
    "import numpy as np\n",
    "import pandas as pd\n",
    "import pickle\n",
    "import seaborn as sns\n",
    "\n",
    "pd.set_option('display.max_columns', None)\n",
    "pd.set_option('display.max_rows', None)"
   ]
  },
  {
   "attachments": {},
   "cell_type": "markdown",
   "id": "7291e85b",
   "metadata": {},
   "source": [
    "## III.B. Import Data"
   ]
  },
  {
   "cell_type": "code",
   "execution_count": 2,
   "id": "2f425995",
   "metadata": {},
   "outputs": [],
   "source": [
    "X_train = pd.read_pickle('../../data/processed/X_train.pkl')\n",
    "X_test = pd.read_pickle('../../data/processed/X_test.pkl')\n",
    "y_train = pd.read_pickle('../../data/processed/y_train.pkl')\n",
    "y_test = pd.read_pickle('../../data/processed/y_test.pkl')"
   ]
  },
  {
   "cell_type": "code",
   "execution_count": 3,
   "id": "d849198a",
   "metadata": {},
   "outputs": [
    {
     "data": {
      "text/html": [
       "<div>\n",
       "<style scoped>\n",
       "    .dataframe tbody tr th:only-of-type {\n",
       "        vertical-align: middle;\n",
       "    }\n",
       "\n",
       "    .dataframe tbody tr th {\n",
       "        vertical-align: top;\n",
       "    }\n",
       "\n",
       "    .dataframe thead th {\n",
       "        text-align: right;\n",
       "    }\n",
       "</style>\n",
       "<table border=\"1\" class=\"dataframe\">\n",
       "  <thead>\n",
       "    <tr style=\"text-align: right;\">\n",
       "      <th></th>\n",
       "      <th>End of Period</th>\n",
       "      <th>Loan Number</th>\n",
       "      <th>Region</th>\n",
       "      <th>Country Code</th>\n",
       "      <th>Country</th>\n",
       "      <th>Borrower</th>\n",
       "      <th>Guarantor Country Code</th>\n",
       "      <th>Guarantor</th>\n",
       "      <th>Loan Type</th>\n",
       "      <th>Loan Status</th>\n",
       "      <th>Interest Rate</th>\n",
       "      <th>Project ID</th>\n",
       "      <th>Project Name</th>\n",
       "      <th>Original Principal Amount</th>\n",
       "      <th>First Repayment Date</th>\n",
       "      <th>Last Repayment Date</th>\n",
       "      <th>Agreement Signing Date</th>\n",
       "      <th>Board Approval Date</th>\n",
       "      <th>Effective Date (Most Recent)</th>\n",
       "      <th>Closed Date (Most Recent)</th>\n",
       "      <th>Last Disbursement Date</th>\n",
       "    </tr>\n",
       "  </thead>\n",
       "  <tbody>\n",
       "    <tr>\n",
       "      <th>2153</th>\n",
       "      <td>2023-04-30</td>\n",
       "      <td>IBRD18870</td>\n",
       "      <td>SOUTH ASIA</td>\n",
       "      <td>IN</td>\n",
       "      <td>India</td>\n",
       "      <td>CONTROLLER OF AID ACCOUNTS &amp; AUDIT</td>\n",
       "      <td>IN</td>\n",
       "      <td>India</td>\n",
       "      <td>NPL</td>\n",
       "      <td>Fully Repaid</td>\n",
       "      <td>8.25</td>\n",
       "      <td>P009768</td>\n",
       "      <td>FARRAKA THERMAL</td>\n",
       "      <td>2.500000e+07</td>\n",
       "      <td>1985-10-01</td>\n",
       "      <td>2000-04-01</td>\n",
       "      <td>1980-07-11</td>\n",
       "      <td>1980-06-26</td>\n",
       "      <td>1980-12-10</td>\n",
       "      <td>1989-06-30</td>\n",
       "      <td>1990-02-01</td>\n",
       "    </tr>\n",
       "    <tr>\n",
       "      <th>5370</th>\n",
       "      <td>2023-04-30</td>\n",
       "      <td>IBRD39120</td>\n",
       "      <td>LATIN AMERICA AND CARIBBEAN</td>\n",
       "      <td>MX</td>\n",
       "      <td>Mexico</td>\n",
       "      <td>NACIONAL FINANCIERA, S.N.C. NAFIN</td>\n",
       "      <td>MX</td>\n",
       "      <td>Mexico</td>\n",
       "      <td>SCL</td>\n",
       "      <td>Fully Repaid</td>\n",
       "      <td>0.00</td>\n",
       "      <td>P040462</td>\n",
       "      <td>ESSENTIAL SOCIAL SER</td>\n",
       "      <td>5.000000e+08</td>\n",
       "      <td>1999-04-15</td>\n",
       "      <td>2010-10-15</td>\n",
       "      <td>1995-06-23</td>\n",
       "      <td>1995-06-22</td>\n",
       "      <td>1995-07-06</td>\n",
       "      <td>1998-06-30</td>\n",
       "      <td>1998-07-02</td>\n",
       "    </tr>\n",
       "    <tr>\n",
       "      <th>6537</th>\n",
       "      <td>2023-04-30</td>\n",
       "      <td>IBRD70690</td>\n",
       "      <td>MIDDLE EAST AND NORTH AFRICA</td>\n",
       "      <td>DZ</td>\n",
       "      <td>Algeria</td>\n",
       "      <td>MINISTERE DES FINANCES</td>\n",
       "      <td>DZ</td>\n",
       "      <td>Algeria</td>\n",
       "      <td>FSL</td>\n",
       "      <td>Fully Repaid</td>\n",
       "      <td>0.00</td>\n",
       "      <td>P054217</td>\n",
       "      <td>DZ-FINANCIAL SYSTEM INFRASTR. MODERN.</td>\n",
       "      <td>1.650000e+07</td>\n",
       "      <td>2007-04-15</td>\n",
       "      <td>2017-10-15</td>\n",
       "      <td>2002-01-04</td>\n",
       "      <td>2001-07-26</td>\n",
       "      <td>2002-09-03</td>\n",
       "      <td>2006-06-30</td>\n",
       "      <td>2006-10-11</td>\n",
       "    </tr>\n",
       "    <tr>\n",
       "      <th>1014</th>\n",
       "      <td>2023-04-30</td>\n",
       "      <td>IBRD09570</td>\n",
       "      <td>EUROPE AND CENTRAL ASIA</td>\n",
       "      <td>TR</td>\n",
       "      <td>Turkiye</td>\n",
       "      <td>Ministry of Treasury and Finance</td>\n",
       "      <td>TR</td>\n",
       "      <td>Turkiye</td>\n",
       "      <td>NPL</td>\n",
       "      <td>Fully Repaid</td>\n",
       "      <td>7.25</td>\n",
       "      <td>P008906</td>\n",
       "      <td>ANTALYA FORESTRY&amp;PAPER M</td>\n",
       "      <td>4.000000e+07</td>\n",
       "      <td>1979-05-01</td>\n",
       "      <td>1989-11-01</td>\n",
       "      <td>1974-01-28</td>\n",
       "      <td>1974-01-15</td>\n",
       "      <td>1976-05-26</td>\n",
       "      <td>1982-06-30</td>\n",
       "      <td>NaT</td>\n",
       "    </tr>\n",
       "    <tr>\n",
       "      <th>4831</th>\n",
       "      <td>2023-04-30</td>\n",
       "      <td>IBRD36330</td>\n",
       "      <td>LATIN AMERICA AND CARIBBEAN</td>\n",
       "      <td>BR</td>\n",
       "      <td>Brazil</td>\n",
       "      <td>Ministério da Fazenda</td>\n",
       "      <td>BR</td>\n",
       "      <td>Brazil</td>\n",
       "      <td>CPL</td>\n",
       "      <td>Fully Repaid</td>\n",
       "      <td>7.54</td>\n",
       "      <td>P006547</td>\n",
       "      <td>RIO DE JANEIRO METROPOLITAN TRANSPORT</td>\n",
       "      <td>8.102367e+07</td>\n",
       "      <td>1999-03-01</td>\n",
       "      <td>2008-09-01</td>\n",
       "      <td>1993-10-14</td>\n",
       "      <td>1993-06-29</td>\n",
       "      <td>1994-03-14</td>\n",
       "      <td>2000-12-31</td>\n",
       "      <td>2000-12-29</td>\n",
       "    </tr>\n",
       "  </tbody>\n",
       "</table>\n",
       "</div>"
      ],
      "text/plain": [
       "     End of Period Loan Number                        Region Country Code  \\\n",
       "2153    2023-04-30   IBRD18870                    SOUTH ASIA           IN   \n",
       "5370    2023-04-30   IBRD39120   LATIN AMERICA AND CARIBBEAN           MX   \n",
       "6537    2023-04-30   IBRD70690  MIDDLE EAST AND NORTH AFRICA           DZ   \n",
       "1014    2023-04-30   IBRD09570       EUROPE AND CENTRAL ASIA           TR   \n",
       "4831    2023-04-30   IBRD36330   LATIN AMERICA AND CARIBBEAN           BR   \n",
       "\n",
       "      Country                            Borrower Guarantor Country Code  \\\n",
       "2153    India  CONTROLLER OF AID ACCOUNTS & AUDIT                     IN   \n",
       "5370   Mexico   NACIONAL FINANCIERA, S.N.C. NAFIN                     MX   \n",
       "6537  Algeria              MINISTERE DES FINANCES                     DZ   \n",
       "1014  Turkiye    Ministry of Treasury and Finance                     TR   \n",
       "4831   Brazil               Ministério da Fazenda                     BR   \n",
       "\n",
       "     Guarantor Loan Type   Loan Status  Interest Rate Project ID  \\\n",
       "2153     India       NPL  Fully Repaid           8.25    P009768   \n",
       "5370    Mexico       SCL  Fully Repaid           0.00    P040462   \n",
       "6537   Algeria       FSL  Fully Repaid           0.00    P054217   \n",
       "1014   Turkiye       NPL  Fully Repaid           7.25    P008906   \n",
       "4831    Brazil       CPL  Fully Repaid           7.54    P006547   \n",
       "\n",
       "                               Project Name  Original Principal Amount  \\\n",
       "2153                        FARRAKA THERMAL               2.500000e+07   \n",
       "5370                   ESSENTIAL SOCIAL SER               5.000000e+08   \n",
       "6537  DZ-FINANCIAL SYSTEM INFRASTR. MODERN.               1.650000e+07   \n",
       "1014               ANTALYA FORESTRY&PAPER M               4.000000e+07   \n",
       "4831  RIO DE JANEIRO METROPOLITAN TRANSPORT               8.102367e+07   \n",
       "\n",
       "     First Repayment Date Last Repayment Date Agreement Signing Date  \\\n",
       "2153           1985-10-01          2000-04-01             1980-07-11   \n",
       "5370           1999-04-15          2010-10-15             1995-06-23   \n",
       "6537           2007-04-15          2017-10-15             2002-01-04   \n",
       "1014           1979-05-01          1989-11-01             1974-01-28   \n",
       "4831           1999-03-01          2008-09-01             1993-10-14   \n",
       "\n",
       "     Board Approval Date Effective Date (Most Recent)  \\\n",
       "2153          1980-06-26                   1980-12-10   \n",
       "5370          1995-06-22                   1995-07-06   \n",
       "6537          2001-07-26                   2002-09-03   \n",
       "1014          1974-01-15                   1976-05-26   \n",
       "4831          1993-06-29                   1994-03-14   \n",
       "\n",
       "     Closed Date (Most Recent) Last Disbursement Date  \n",
       "2153                1989-06-30             1990-02-01  \n",
       "5370                1998-06-30             1998-07-02  \n",
       "6537                2006-06-30             2006-10-11  \n",
       "1014                1982-06-30                    NaT  \n",
       "4831                2000-12-31             2000-12-29  "
      ]
     },
     "execution_count": 3,
     "metadata": {},
     "output_type": "execute_result"
    }
   ],
   "source": [
    "X_train.head()"
   ]
  },
  {
   "cell_type": "code",
   "execution_count": 4,
   "id": "3d3fa463",
   "metadata": {},
   "outputs": [
    {
     "data": {
      "text/html": [
       "<div>\n",
       "<style scoped>\n",
       "    .dataframe tbody tr th:only-of-type {\n",
       "        vertical-align: middle;\n",
       "    }\n",
       "\n",
       "    .dataframe tbody tr th {\n",
       "        vertical-align: top;\n",
       "    }\n",
       "\n",
       "    .dataframe thead th {\n",
       "        text-align: right;\n",
       "    }\n",
       "</style>\n",
       "<table border=\"1\" class=\"dataframe\">\n",
       "  <thead>\n",
       "    <tr style=\"text-align: right;\">\n",
       "      <th></th>\n",
       "      <th>End of Period</th>\n",
       "      <th>Loan Number</th>\n",
       "      <th>Region</th>\n",
       "      <th>Country Code</th>\n",
       "      <th>Country</th>\n",
       "      <th>Borrower</th>\n",
       "      <th>Guarantor Country Code</th>\n",
       "      <th>Guarantor</th>\n",
       "      <th>Loan Type</th>\n",
       "      <th>Loan Status</th>\n",
       "      <th>Interest Rate</th>\n",
       "      <th>Project ID</th>\n",
       "      <th>Project Name</th>\n",
       "      <th>Original Principal Amount</th>\n",
       "      <th>First Repayment Date</th>\n",
       "      <th>Last Repayment Date</th>\n",
       "      <th>Agreement Signing Date</th>\n",
       "      <th>Board Approval Date</th>\n",
       "      <th>Effective Date (Most Recent)</th>\n",
       "      <th>Closed Date (Most Recent)</th>\n",
       "      <th>Last Disbursement Date</th>\n",
       "    </tr>\n",
       "  </thead>\n",
       "  <tbody>\n",
       "    <tr>\n",
       "      <th>7270</th>\n",
       "      <td>2023-04-30</td>\n",
       "      <td>IBRD78320</td>\n",
       "      <td>LATIN AMERICA AND CARIBBEAN</td>\n",
       "      <td>PE</td>\n",
       "      <td>Peru</td>\n",
       "      <td>Ministerio De Economia Y Finanzas</td>\n",
       "      <td>PE</td>\n",
       "      <td>Peru</td>\n",
       "      <td>FSL</td>\n",
       "      <td>Terminated</td>\n",
       "      <td>0.00</td>\n",
       "      <td>P116929</td>\n",
       "      <td>PE Safe and Sustainable Transport</td>\n",
       "      <td>150000000.0</td>\n",
       "      <td>2018-07-15</td>\n",
       "      <td>2031-01-15</td>\n",
       "      <td>NaT</td>\n",
       "      <td>2010-01-14</td>\n",
       "      <td>NaT</td>\n",
       "      <td>2014-07-01</td>\n",
       "      <td>NaT</td>\n",
       "    </tr>\n",
       "    <tr>\n",
       "      <th>2085</th>\n",
       "      <td>2023-04-30</td>\n",
       "      <td>IBRD18320</td>\n",
       "      <td>LATIN AMERICA AND CARIBBEAN</td>\n",
       "      <td>CL</td>\n",
       "      <td>Chile</td>\n",
       "      <td>MINISTERIO DE OBRAS PUBLICAS</td>\n",
       "      <td>CL</td>\n",
       "      <td>Chile</td>\n",
       "      <td>NPL</td>\n",
       "      <td>Fully Repaid</td>\n",
       "      <td>8.25</td>\n",
       "      <td>P006602</td>\n",
       "      <td>W/S PROJECT</td>\n",
       "      <td>38000000.0</td>\n",
       "      <td>1984-01-01</td>\n",
       "      <td>1995-07-01</td>\n",
       "      <td>1980-08-15</td>\n",
       "      <td>1980-04-17</td>\n",
       "      <td>1980-11-07</td>\n",
       "      <td>1987-06-30</td>\n",
       "      <td>1988-01-08</td>\n",
       "    </tr>\n",
       "    <tr>\n",
       "      <th>6585</th>\n",
       "      <td>2023-04-30</td>\n",
       "      <td>IBRD71170</td>\n",
       "      <td>MIDDLE EAST AND NORTH AFRICA</td>\n",
       "      <td>LB</td>\n",
       "      <td>Lebanon</td>\n",
       "      <td>MINISTRY OF FINANCE</td>\n",
       "      <td>LB</td>\n",
       "      <td>Lebanon</td>\n",
       "      <td>FSL</td>\n",
       "      <td>Fully Repaid</td>\n",
       "      <td>0.00</td>\n",
       "      <td>P074042</td>\n",
       "      <td>LB  - Ba'albeck Water and Wastewater</td>\n",
       "      <td>43530000.0</td>\n",
       "      <td>2009-11-15</td>\n",
       "      <td>2015-05-15</td>\n",
       "      <td>2002-09-26</td>\n",
       "      <td>2002-06-04</td>\n",
       "      <td>2003-07-31</td>\n",
       "      <td>2012-06-15</td>\n",
       "      <td>2013-05-30</td>\n",
       "    </tr>\n",
       "    <tr>\n",
       "      <th>6515</th>\n",
       "      <td>2023-04-30</td>\n",
       "      <td>IBRD70470</td>\n",
       "      <td>MIDDLE EAST AND NORTH AFRICA</td>\n",
       "      <td>DZ</td>\n",
       "      <td>Algeria</td>\n",
       "      <td>MINISTERE DES FINANCES</td>\n",
       "      <td>DZ</td>\n",
       "      <td>Algeria</td>\n",
       "      <td>FSL</td>\n",
       "      <td>Fully Repaid</td>\n",
       "      <td>0.00</td>\n",
       "      <td>P064921</td>\n",
       "      <td>DZ-Budget System Modernization</td>\n",
       "      <td>23700000.0</td>\n",
       "      <td>2013-04-15</td>\n",
       "      <td>2016-10-15</td>\n",
       "      <td>2001-04-18</td>\n",
       "      <td>2001-02-06</td>\n",
       "      <td>2001-07-17</td>\n",
       "      <td>2009-02-28</td>\n",
       "      <td>2010-10-15</td>\n",
       "    </tr>\n",
       "    <tr>\n",
       "      <th>14</th>\n",
       "      <td>2023-04-30</td>\n",
       "      <td>IBRD00112</td>\n",
       "      <td>LATIN AMERICA AND CARIBBEAN</td>\n",
       "      <td>BR</td>\n",
       "      <td>Brazil</td>\n",
       "      <td>Ministério da Fazenda</td>\n",
       "      <td>BR</td>\n",
       "      <td>Brazil</td>\n",
       "      <td>NPL</td>\n",
       "      <td>Fully Repaid</td>\n",
       "      <td>4.25</td>\n",
       "      <td>P006214</td>\n",
       "      <td>POWER AND TELEPHONE</td>\n",
       "      <td>15000000.0</td>\n",
       "      <td>1955-07-01</td>\n",
       "      <td>1976-01-01</td>\n",
       "      <td>1951-01-18</td>\n",
       "      <td>1951-01-16</td>\n",
       "      <td>1951-04-10</td>\n",
       "      <td>1954-12-31</td>\n",
       "      <td>NaT</td>\n",
       "    </tr>\n",
       "  </tbody>\n",
       "</table>\n",
       "</div>"
      ],
      "text/plain": [
       "     End of Period Loan Number                        Region Country Code  \\\n",
       "7270    2023-04-30   IBRD78320   LATIN AMERICA AND CARIBBEAN           PE   \n",
       "2085    2023-04-30   IBRD18320   LATIN AMERICA AND CARIBBEAN           CL   \n",
       "6585    2023-04-30   IBRD71170  MIDDLE EAST AND NORTH AFRICA           LB   \n",
       "6515    2023-04-30   IBRD70470  MIDDLE EAST AND NORTH AFRICA           DZ   \n",
       "14      2023-04-30   IBRD00112   LATIN AMERICA AND CARIBBEAN           BR   \n",
       "\n",
       "      Country                           Borrower Guarantor Country Code  \\\n",
       "7270     Peru  Ministerio De Economia Y Finanzas                     PE   \n",
       "2085    Chile       MINISTERIO DE OBRAS PUBLICAS                     CL   \n",
       "6585  Lebanon                MINISTRY OF FINANCE                     LB   \n",
       "6515  Algeria             MINISTERE DES FINANCES                     DZ   \n",
       "14     Brazil              Ministério da Fazenda                     BR   \n",
       "\n",
       "     Guarantor Loan Type   Loan Status  Interest Rate Project ID  \\\n",
       "7270      Peru       FSL    Terminated           0.00    P116929   \n",
       "2085     Chile       NPL  Fully Repaid           8.25    P006602   \n",
       "6585   Lebanon       FSL  Fully Repaid           0.00    P074042   \n",
       "6515   Algeria       FSL  Fully Repaid           0.00    P064921   \n",
       "14      Brazil       NPL  Fully Repaid           4.25    P006214   \n",
       "\n",
       "                              Project Name  Original Principal Amount  \\\n",
       "7270     PE Safe and Sustainable Transport                150000000.0   \n",
       "2085                           W/S PROJECT                 38000000.0   \n",
       "6585  LB  - Ba'albeck Water and Wastewater                 43530000.0   \n",
       "6515        DZ-Budget System Modernization                 23700000.0   \n",
       "14                     POWER AND TELEPHONE                 15000000.0   \n",
       "\n",
       "     First Repayment Date Last Repayment Date Agreement Signing Date  \\\n",
       "7270           2018-07-15          2031-01-15                    NaT   \n",
       "2085           1984-01-01          1995-07-01             1980-08-15   \n",
       "6585           2009-11-15          2015-05-15             2002-09-26   \n",
       "6515           2013-04-15          2016-10-15             2001-04-18   \n",
       "14             1955-07-01          1976-01-01             1951-01-18   \n",
       "\n",
       "     Board Approval Date Effective Date (Most Recent)  \\\n",
       "7270          2010-01-14                          NaT   \n",
       "2085          1980-04-17                   1980-11-07   \n",
       "6585          2002-06-04                   2003-07-31   \n",
       "6515          2001-02-06                   2001-07-17   \n",
       "14            1951-01-16                   1951-04-10   \n",
       "\n",
       "     Closed Date (Most Recent) Last Disbursement Date  \n",
       "7270                2014-07-01                    NaT  \n",
       "2085                1987-06-30             1988-01-08  \n",
       "6585                2012-06-15             2013-05-30  \n",
       "6515                2009-02-28             2010-10-15  \n",
       "14                  1954-12-31                    NaT  "
      ]
     },
     "execution_count": 4,
     "metadata": {},
     "output_type": "execute_result"
    }
   ],
   "source": [
    "X_test.head()"
   ]
  },
  {
   "cell_type": "code",
   "execution_count": 5,
   "id": "1433f20c",
   "metadata": {},
   "outputs": [
    {
     "data": {
      "text/plain": [
       "2153    0\n",
       "5370    0\n",
       "6537    0\n",
       "1014    0\n",
       "4831    0\n",
       "Name: bad, dtype: int32"
      ]
     },
     "execution_count": 5,
     "metadata": {},
     "output_type": "execute_result"
    }
   ],
   "source": [
    "y_train.head()"
   ]
  },
  {
   "cell_type": "code",
   "execution_count": 6,
   "id": "d253314f",
   "metadata": {},
   "outputs": [
    {
     "data": {
      "text/plain": [
       "7270    1\n",
       "2085    0\n",
       "6585    0\n",
       "6515    0\n",
       "14      0\n",
       "Name: bad, dtype: int32"
      ]
     },
     "execution_count": 6,
     "metadata": {},
     "output_type": "execute_result"
    }
   ],
   "source": [
    "y_test.head()"
   ]
  },
  {
   "attachments": {},
   "cell_type": "markdown",
   "id": "f59e32c9",
   "metadata": {},
   "source": [
    "# IV. Feature Engineering"
   ]
  },
  {
   "attachments": {},
   "cell_type": "markdown",
   "id": "db0a5756",
   "metadata": {},
   "source": [
    "## IV.A. Data Shape Inspection"
   ]
  },
  {
   "cell_type": "code",
   "execution_count": 7,
   "id": "aad7798b",
   "metadata": {},
   "outputs": [
    {
     "data": {
      "text/plain": [
       "((4680, 21), (2006, 21))"
      ]
     },
     "execution_count": 7,
     "metadata": {},
     "output_type": "execute_result"
    }
   ],
   "source": [
    "X_train.shape, X_test.shape"
   ]
  },
  {
   "cell_type": "code",
   "execution_count": 8,
   "id": "6bd1fe1c",
   "metadata": {},
   "outputs": [
    {
     "data": {
      "text/plain": [
       "((4680,), (2006,))"
      ]
     },
     "execution_count": 8,
     "metadata": {},
     "output_type": "execute_result"
    }
   ],
   "source": [
    "y_train.shape, y_test.shape"
   ]
  },
  {
   "attachments": {},
   "cell_type": "markdown",
   "id": "3389b1bf",
   "metadata": {},
   "source": [
    "## IV.B. Data Information Inspection"
   ]
  },
  {
   "cell_type": "code",
   "execution_count": 9,
   "id": "c6d7319a",
   "metadata": {},
   "outputs": [
    {
     "name": "stdout",
     "output_type": "stream",
     "text": [
      "<class 'pandas.core.frame.DataFrame'>\n",
      "Index: 4680 entries, 2153 to 6611\n",
      "Data columns (total 21 columns):\n",
      " #   Column                        Non-Null Count  Dtype         \n",
      "---  ------                        --------------  -----         \n",
      " 0   End of Period                 4680 non-null   datetime64[ns]\n",
      " 1   Loan Number                   4680 non-null   object        \n",
      " 2   Region                        4680 non-null   object        \n",
      " 3   Country Code                  4679 non-null   object        \n",
      " 4   Country                       4680 non-null   object        \n",
      " 5   Borrower                      4642 non-null   object        \n",
      " 6   Guarantor Country Code        4490 non-null   object        \n",
      " 7   Guarantor                     4491 non-null   object        \n",
      " 8   Loan Type                     4680 non-null   object        \n",
      " 9   Loan Status                   4680 non-null   object        \n",
      " 10  Interest Rate                 4631 non-null   float64       \n",
      " 11  Project ID                    4680 non-null   object        \n",
      " 12  Project Name                  4680 non-null   object        \n",
      " 13  Original Principal Amount     4680 non-null   float64       \n",
      " 14  First Repayment Date          4668 non-null   datetime64[ns]\n",
      " 15  Last Repayment Date           4669 non-null   datetime64[ns]\n",
      " 16  Agreement Signing Date        4616 non-null   datetime64[ns]\n",
      " 17  Board Approval Date           4680 non-null   datetime64[ns]\n",
      " 18  Effective Date (Most Recent)  4656 non-null   datetime64[ns]\n",
      " 19  Closed Date (Most Recent)     4675 non-null   datetime64[ns]\n",
      " 20  Last Disbursement Date        2454 non-null   datetime64[ns]\n",
      "dtypes: datetime64[ns](8), float64(2), object(11)\n",
      "memory usage: 804.4+ KB\n"
     ]
    }
   ],
   "source": [
    "X_train.info()"
   ]
  },
  {
   "cell_type": "code",
   "execution_count": 10,
   "id": "fe621948",
   "metadata": {},
   "outputs": [
    {
     "name": "stdout",
     "output_type": "stream",
     "text": [
      "<class 'pandas.core.frame.DataFrame'>\n",
      "Index: 2006 entries, 7270 to 175\n",
      "Data columns (total 21 columns):\n",
      " #   Column                        Non-Null Count  Dtype         \n",
      "---  ------                        --------------  -----         \n",
      " 0   End of Period                 2006 non-null   datetime64[ns]\n",
      " 1   Loan Number                   2006 non-null   object        \n",
      " 2   Region                        2006 non-null   object        \n",
      " 3   Country Code                  2005 non-null   object        \n",
      " 4   Country                       2006 non-null   object        \n",
      " 5   Borrower                      1987 non-null   object        \n",
      " 6   Guarantor Country Code        1917 non-null   object        \n",
      " 7   Guarantor                     1918 non-null   object        \n",
      " 8   Loan Type                     2006 non-null   object        \n",
      " 9   Loan Status                   2006 non-null   object        \n",
      " 10  Interest Rate                 1988 non-null   float64       \n",
      " 11  Project ID                    2006 non-null   object        \n",
      " 12  Project Name                  2006 non-null   object        \n",
      " 13  Original Principal Amount     2006 non-null   float64       \n",
      " 14  First Repayment Date          2002 non-null   datetime64[ns]\n",
      " 15  Last Repayment Date           2002 non-null   datetime64[ns]\n",
      " 16  Agreement Signing Date        1983 non-null   datetime64[ns]\n",
      " 17  Board Approval Date           2006 non-null   datetime64[ns]\n",
      " 18  Effective Date (Most Recent)  1993 non-null   datetime64[ns]\n",
      " 19  Closed Date (Most Recent)     2003 non-null   datetime64[ns]\n",
      " 20  Last Disbursement Date        1058 non-null   datetime64[ns]\n",
      "dtypes: datetime64[ns](8), float64(2), object(11)\n",
      "memory usage: 344.8+ KB\n"
     ]
    }
   ],
   "source": [
    "X_test.info()"
   ]
  },
  {
   "cell_type": "code",
   "execution_count": 11,
   "id": "d1aef8c6",
   "metadata": {},
   "outputs": [
    {
     "name": "stdout",
     "output_type": "stream",
     "text": [
      "<class 'pandas.core.series.Series'>\n",
      "Index: 4680 entries, 2153 to 6611\n",
      "Series name: bad\n",
      "Non-Null Count  Dtype\n",
      "--------------  -----\n",
      "4680 non-null   int32\n",
      "dtypes: int32(1)\n",
      "memory usage: 54.8 KB\n"
     ]
    }
   ],
   "source": [
    "y_train.info()"
   ]
  },
  {
   "cell_type": "code",
   "execution_count": 12,
   "id": "2121d07d",
   "metadata": {},
   "outputs": [
    {
     "name": "stdout",
     "output_type": "stream",
     "text": [
      "<class 'pandas.core.series.Series'>\n",
      "Index: 2006 entries, 7270 to 175\n",
      "Series name: bad\n",
      "Non-Null Count  Dtype\n",
      "--------------  -----\n",
      "2006 non-null   int32\n",
      "dtypes: int32(1)\n",
      "memory usage: 23.5 KB\n"
     ]
    }
   ],
   "source": [
    "y_test.info()"
   ]
  },
  {
   "attachments": {},
   "cell_type": "markdown",
   "id": "d9326f5a",
   "metadata": {},
   "source": [
    "## IV.C. Unused Feature Removal"
   ]
  },
  {
   "cell_type": "code",
   "execution_count": null,
   "id": "71185866",
   "metadata": {},
   "outputs": [],
   "source": [
    "def unused_feat_removal(df, feature_to_remove):\n",
    "    df.drop(columns = feature_to_remove, inplace = True)\n",
    "    return df"
   ]
  },
  {
   "cell_type": "code",
   "execution_count": null,
   "id": "58b0f751",
   "metadata": {},
   "outputs": [],
   "source": [
    "feature_to_remove = [\"column_0\", \"column_1\"]"
   ]
  },
  {
   "cell_type": "code",
   "execution_count": null,
   "id": "1511ebb1",
   "metadata": {},
   "outputs": [],
   "source": [
    "unused_feat_removal(X_train, feature_to_remove)\n",
    "unused_feat_removal(X_test, feature_to_remove)\n",
    "X_train.shape, X_test.shape"
   ]
  },
  {
   "cell_type": "code",
   "execution_count": null,
   "id": "9eb26492",
   "metadata": {},
   "outputs": [],
   "source": [
    "X_train.head()"
   ]
  },
  {
   "cell_type": "code",
   "execution_count": null,
   "id": "6c33434b",
   "metadata": {},
   "outputs": [],
   "source": [
    "X_test.head()"
   ]
  },
  {
   "attachments": {},
   "cell_type": "markdown",
   "id": "c2bf5697",
   "metadata": {},
   "source": [
    "## IV.E. Specific Feature Engineering"
   ]
  },
  {
   "cell_type": "code",
   "execution_count": null,
   "id": "0aa85812",
   "metadata": {},
   "outputs": [],
   "source": []
  },
  {
   "attachments": {},
   "cell_type": "markdown",
   "id": "2feae1c3",
   "metadata": {},
   "source": [
    "## IV.F. Final Feature Inspection"
   ]
  },
  {
   "cell_type": "code",
   "execution_count": null,
   "id": "4205d53d",
   "metadata": {},
   "outputs": [],
   "source": [
    "X_train.shape, X_test.shape"
   ]
  },
  {
   "cell_type": "code",
   "execution_count": null,
   "id": "033d2ccb",
   "metadata": {},
   "outputs": [],
   "source": [
    "X_train.head()"
   ]
  },
  {
   "cell_type": "code",
   "execution_count": null,
   "id": "3129da35",
   "metadata": {},
   "outputs": [],
   "source": [
    "X_test.head()"
   ]
  },
  {
   "cell_type": "code",
   "execution_count": null,
   "id": "6aebcd16",
   "metadata": {},
   "outputs": [],
   "source": [
    "X_train.info()"
   ]
  },
  {
   "cell_type": "code",
   "execution_count": null,
   "id": "f8a75b34",
   "metadata": {},
   "outputs": [],
   "source": [
    "X_test.info()"
   ]
  },
  {
   "attachments": {},
   "cell_type": "markdown",
   "id": "9c656993",
   "metadata": {},
   "source": [
    "# V. Feature Selection"
   ]
  },
  {
   "attachments": {},
   "cell_type": "markdown",
   "id": "160311f1",
   "metadata": {},
   "source": [
    "## V.E. Feature Manual Binning"
   ]
  },
  {
   "attachments": {},
   "cell_type": "markdown",
   "id": "1b6415e5",
   "metadata": {},
   "source": [
    "### V.E.1. Feature Weight of Evidence and Information Value Inspection"
   ]
  },
  {
   "cell_type": "code",
   "execution_count": null,
   "id": "9796d2e4",
   "metadata": {},
   "outputs": [],
   "source": [
    "def woe_analysis(X, feature, y):\n",
    "    df = pd.concat([X[feature], y], axis = 1)\n",
    "    df = pd.concat([df.groupby(df.columns.values[0], as_index = False)[df.columns.values[1]].count(),\n",
    "                    df.groupby(df.columns.values[0], as_index = False)[df.columns.values[1]].mean()], axis = 1)\n",
    "    df = df.iloc[:, [0, 1, 3]]\n",
    "    df.columns = [df.columns[0], \"n_observation\", \"proportion_of_category\"]\n",
    "    df[\"proportion_of_observation\"] = df[\"n_observation\"] / df[\"n_observation\"].sum()\n",
    "    df[\"n_good\"] = df[\"proportion_of_category\"] * df[\"n_observation\"]\n",
    "    df[\"n_bad\"] = (1 - df[\"proportion_of_category\"]) * df[\"n_observation\"]\n",
    "    df[\"proportion_of_good\"] = df[\"n_good\"] / df[\"n_good\"].sum()\n",
    "    df[\"proportion_of_bad\"] = df[\"n_bad\"] / df[\"n_bad\"].sum()\n",
    "    df[\"WoE\"] = np.log(df[\"proportion_of_good\"] / df[\"proportion_of_bad\"])\n",
    "    df = df.sort_values([\"WoE\"]).reset_index(drop = True)\n",
    "    df[\"diff_proportion_of_category\"] = df[\"proportion_of_category\"].diff().abs()\n",
    "    df[\"diff_WoE\"] = df[\"WoE\"].diff().abs()\n",
    "    df[\"IV\"] = (df[\"proportion_of_good\"] - df[\"proportion_of_bad\"]) * df[\"WoE\"]\n",
    "    df[\"IV\"] = df[\"IV\"].sum()\n",
    "    return df\n",
    "\n",
    "def plot_by_woe(woe_df, rotation_of_x_axis_labels = 0):\n",
    "    x = np.array(woe_df.iloc[:, 0].astype(str))\n",
    "    y = woe_df[\"WoE\"]\n",
    "    plt.figure(figsize = (18, 6))\n",
    "    plt.plot(x, y, marker = 'o', linestyle = '--', color = 'k')\n",
    "    plt.xlabel(woe_df.columns[0])\n",
    "    plt.ylabel(\"Weight of Evidence\")\n",
    "    plt.title(\"Weight of Evidence by \" + woe_df.columns[0])\n",
    "    plt.xticks(rotation = rotation_of_x_axis_labels)"
   ]
  },
  {
   "attachments": {},
   "cell_type": "markdown",
   "id": "fe3ec9e6",
   "metadata": {},
   "source": [
    "#### V.E.1.A. _Column_0_"
   ]
  },
  {
   "cell_type": "code",
   "execution_count": null,
   "id": "edce1e04",
   "metadata": {},
   "outputs": [],
   "source": [
    "# Categorical Feature\n",
    "column_0_woe = woe_analysis(X_train, \"column_0\", y_train)\n",
    "column_0_woe"
   ]
  },
  {
   "cell_type": "code",
   "execution_count": null,
   "id": "df26c44f",
   "metadata": {},
   "outputs": [],
   "source": [
    "plot_by_woe(column_0_woe)"
   ]
  },
  {
   "attachments": {},
   "cell_type": "markdown",
   "id": "6f72a1bb",
   "metadata": {},
   "source": [
    "#### V.E.1.B. _Column_1_"
   ]
  },
  {
   "cell_type": "code",
   "execution_count": null,
   "id": "623e1f80",
   "metadata": {},
   "outputs": [],
   "source": [
    "# Continuous Feature\n",
    "# Fine Classing or Coarse Classing\n",
    "X_train[\"column_1\"] = pd.cut(X_train[\"column_1\"], 10) # This is an iterative process\n",
    "column_1_woe = woe_analysis(X_train, \"column_1\", y_train)\n",
    "column_1_woe"
   ]
  },
  {
   "cell_type": "code",
   "execution_count": null,
   "id": "4634c4bd",
   "metadata": {},
   "outputs": [],
   "source": [
    "plot_by_woe(column_1_woe)"
   ]
  },
  {
   "attachments": {},
   "cell_type": "markdown",
   "id": "34a2a02e",
   "metadata": {},
   "source": [
    "## V.F. Feature Manual Binning Weight of Evidence Encoding"
   ]
  },
  {
   "cell_type": "code",
   "execution_count": null,
   "id": "ca90cd15",
   "metadata": {},
   "outputs": [],
   "source": [
    "def manual_binning_woe_encoding(X, feature, df_woe_analysis):\n",
    "    X_encoded = X.copy()\n",
    "    woe_values = df_woe_analysis.set_index(feature)[\"WoE\"]\n",
    "    X_encoded[feature] = X_encoded[feature].map(woe_values)\n",
    "    return X_encoded"
   ]
  },
  {
   "cell_type": "code",
   "execution_count": null,
   "id": "a034fe7b",
   "metadata": {},
   "outputs": [],
   "source": [
    "X_train_woe = manual_binning_woe_encoding(X, \"column_name\", column_name_woe)\n",
    "X_test_woe = manual_binning_woe_encoding(X, \"column_name\", column_name_woe)\n",
    "X_train_woe.shape, X_test_woe.shape"
   ]
  },
  {
   "cell_type": "code",
   "execution_count": null,
   "id": "65af03e5",
   "metadata": {},
   "outputs": [],
   "source": [
    "X_train_woe.head()"
   ]
  },
  {
   "cell_type": "code",
   "execution_count": null,
   "id": "8da24139",
   "metadata": {},
   "outputs": [],
   "source": [
    "X_test_woe.head()"
   ]
  },
  {
   "attachments": {},
   "cell_type": "markdown",
   "id": "472a5339",
   "metadata": {},
   "source": [
    "## V.G. Feature Manual Binning One-Hot Encoding"
   ]
  },
  {
   "attachments": {},
   "cell_type": "markdown",
   "id": "a552dcf8",
   "metadata": {},
   "source": [
    "### V.G.1. Categorical Feature Dummy Encoding"
   ]
  },
  {
   "cell_type": "code",
   "execution_count": null,
   "id": "16116fae",
   "metadata": {},
   "outputs": [],
   "source": [
    "def dummy_encoding(df, columns_list):\n",
    "    df_dummies = pd.get_dummies(df[columns_list], prefix = columns_list, prefix_sep = \":\")\n",
    "    df = pd.concat([df, df_dummies], axis = 1)\n",
    "    return df"
   ]
  },
  {
   "cell_type": "code",
   "execution_count": null,
   "id": "bffc575e",
   "metadata": {},
   "outputs": [],
   "source": [
    "X_train = dummy_encoding(X_train, [\"column_0\", \"column_1\"])\n",
    "X_test = dummy_encoding(X_test, [\"column_0\", \"column_1\"])\n",
    "X_train.shape, X_test.shape"
   ]
  },
  {
   "cell_type": "code",
   "execution_count": null,
   "id": "3f8a98fe",
   "metadata": {},
   "outputs": [],
   "source": [
    "X_train.head()"
   ]
  },
  {
   "cell_type": "code",
   "execution_count": null,
   "id": "0add85d7",
   "metadata": {},
   "outputs": [],
   "source": [
    "X_test.head()"
   ]
  },
  {
   "attachments": {},
   "cell_type": "markdown",
   "id": "63fa0db7",
   "metadata": {},
   "source": [
    "### V.G.2. Overall Feature One-Hot Encoding"
   ]
  },
  {
   "cell_type": "code",
   "execution_count": null,
   "id": "64595227",
   "metadata": {},
   "outputs": [],
   "source": [
    "def manual_binning_ohe_encoding(X):\n",
    "    X_encoded = X.copy()\n",
    "    original_columns = X.columns.tolist()\n",
    "    # Categorical Features\n",
    "    X_encoded[\"feature_0:bin_0\"] = X.loc[:, \"encodedfeature_0:bin_0\"]\n",
    "    X_encoded[\"feature_0:bin_1\"] = X.loc[:, \"feature_0:bin_1\"]\n",
    "    # Numerical Features\n",
    "    X_encoded[\"feature_1:36\"] = np.where((X[\"feature_1\"] == 36), 1, 0) # Change this according to your data\n",
    "    X_encoded[\"feature_1:60\"] = np.where((X[\"feature_1\"] == 60), 1, 0) # Change this according to your data\n",
    "    # Continuous Features\n",
    "    X_encoded[\"feature_2:<7.071\"] = np.where((X[\"feature_2\"] <= 7.071), 1, 0) # Change this according to your data\n",
    "    X_encoded[\"feature_2:7.071-10.374\"] = np.where((X[\"feature_2\"] > 7.071) & (X[\"feature_2\"] <= 10.374), 1, 0) # Change this according to your data\n",
    "    X_encoded.drop(columns = original_columns, inplace = True)\n",
    "    return X_encoded"
   ]
  },
  {
   "cell_type": "code",
   "execution_count": null,
   "id": "755f9db1",
   "metadata": {},
   "outputs": [],
   "source": [
    "X_train_ohe = manual_binning_ohe_encoding(X_train)\n",
    "X_test_ohe = manual_binning_ohe_encoding(X_test)\n",
    "X_train_ohe.shape, X_test_ohe.shape"
   ]
  },
  {
   "cell_type": "code",
   "execution_count": null,
   "id": "2cd49bed",
   "metadata": {},
   "outputs": [],
   "source": [
    "X_train_ohe.head()"
   ]
  },
  {
   "cell_type": "code",
   "execution_count": null,
   "id": "6ed87c25",
   "metadata": {},
   "outputs": [],
   "source": [
    "X_test_ohe.head()"
   ]
  },
  {
   "attachments": {},
   "cell_type": "markdown",
   "id": "db69461a",
   "metadata": {},
   "source": [
    "## V.H. Export Data"
   ]
  },
  {
   "cell_type": "code",
   "execution_count": null,
   "id": "c0804fda",
   "metadata": {},
   "outputs": [],
   "source": [
    "X_train_woe.to_pickle('../../data/processed/X_train_woe.pkl')\n",
    "X_test_woe.to_pickle('../../data/processed/X_test_woe.pkl')\n",
    "\n",
    "X_train_ohe.to_pickle('../../data/processed/X_train_ohe.pkl')\n",
    "X_test_ohe.to_pickle('../../data/processed/X_test_ohe.pkl')"
   ]
  }
 ],
 "metadata": {
  "kernelspec": {
   "display_name": "Python 3 (ipykernel)",
   "language": "python",
   "name": "python3"
  },
  "language_info": {
   "codemirror_mode": {
    "name": "ipython",
    "version": 3
   },
   "file_extension": ".py",
   "mimetype": "text/x-python",
   "name": "python",
   "nbconvert_exporter": "python",
   "pygments_lexer": "ipython3",
   "version": "3.11.3"
  }
 },
 "nbformat": 4,
 "nbformat_minor": 5
}
