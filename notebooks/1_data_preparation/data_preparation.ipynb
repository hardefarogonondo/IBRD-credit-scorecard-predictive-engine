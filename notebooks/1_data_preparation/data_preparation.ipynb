{
 "cells": [
  {
   "cell_type": "markdown",
   "id": "20203c0f",
   "metadata": {},
   "source": [
    "# I. Project Team Members"
   ]
  },
  {
   "cell_type": "markdown",
   "id": "0aa3d7f4",
   "metadata": {},
   "source": [
    "| Prepared by | Email | Prepared for |\n",
    "| :-: | :-: | :-: |\n",
    "| **Hardefa Rogonondo** | hardefarogonondo@gmail.com | **IBRD Credit Scorecard Predictive Engine** |"
   ]
  },
  {
   "cell_type": "markdown",
   "id": "b05cd469",
   "metadata": {},
   "source": [
    "# II. Notebook Target Definition"
   ]
  },
  {
   "cell_type": "markdown",
   "id": "47bae1d2",
   "metadata": {},
   "source": [
    "This notebook outlines the data preparation process for IBRD Loan Credit Scorecard Predictive Engine Project. We commence by preparing the comprehensive IBRD loan dataset, which we extract from a CSV file. This dataset encompasses various loan-related attributes, including loan status and type, borrower information, and repayment details. Within this notebook, we execute key data cleaning and formatting tasks, alongside comprehensive quality checks, to ensure data suitability for subsequent predictive analysis. The output of this notebook is a clean, well-structured dataset, poised to set a solid foundation for an accurate prediction of credit scores using the dataset."
   ]
  },
  {
   "cell_type": "markdown",
   "id": "3213f42d",
   "metadata": {},
   "source": [
    "# III. Notebook Setup"
   ]
  },
  {
   "cell_type": "markdown",
   "id": "bb5c3810",
   "metadata": {},
   "source": [
    "## III.A. Import Libraries"
   ]
  },
  {
   "cell_type": "code",
   "execution_count": 1,
   "id": "ac84c896",
   "metadata": {},
   "outputs": [],
   "source": [
    "import numpy as np\n",
    "import pandas as pd\n",
    "import pickle\n",
    "\n",
    "pd.set_option('display.max_columns', None)\n",
    "pd.set_option('display.max_rows', None)"
   ]
  },
  {
   "cell_type": "markdown",
   "id": "7291e85b",
   "metadata": {},
   "source": [
    "## III.B. Import Data"
   ]
  },
  {
   "cell_type": "code",
   "execution_count": 2,
   "id": "2f425995",
   "metadata": {},
   "outputs": [
    {
     "data": {
      "text/html": [
       "<div>\n",
       "<style scoped>\n",
       "    .dataframe tbody tr th:only-of-type {\n",
       "        vertical-align: middle;\n",
       "    }\n",
       "\n",
       "    .dataframe tbody tr th {\n",
       "        vertical-align: top;\n",
       "    }\n",
       "\n",
       "    .dataframe thead th {\n",
       "        text-align: right;\n",
       "    }\n",
       "</style>\n",
       "<table border=\"1\" class=\"dataframe\">\n",
       "  <thead>\n",
       "    <tr style=\"text-align: right;\">\n",
       "      <th></th>\n",
       "      <th>End of Period</th>\n",
       "      <th>Loan Number</th>\n",
       "      <th>Region</th>\n",
       "      <th>Country Code</th>\n",
       "      <th>Country</th>\n",
       "      <th>Borrower</th>\n",
       "      <th>Guarantor Country Code</th>\n",
       "      <th>Guarantor</th>\n",
       "      <th>Loan Type</th>\n",
       "      <th>Loan Status</th>\n",
       "      <th>Interest Rate</th>\n",
       "      <th>Currency of Commitment</th>\n",
       "      <th>Project ID</th>\n",
       "      <th>Project Name</th>\n",
       "      <th>Original Principal Amount</th>\n",
       "      <th>Cancelled Amount</th>\n",
       "      <th>Undisbursed Amount</th>\n",
       "      <th>Disbursed Amount</th>\n",
       "      <th>Repaid to IBRD</th>\n",
       "      <th>Due to IBRD</th>\n",
       "      <th>Exchange Adjustment</th>\n",
       "      <th>Borrower's Obligation</th>\n",
       "      <th>Sold 3rd Party</th>\n",
       "      <th>Repaid 3rd Party</th>\n",
       "      <th>Due 3rd Party</th>\n",
       "      <th>Loans Held</th>\n",
       "      <th>First Repayment Date</th>\n",
       "      <th>Last Repayment Date</th>\n",
       "      <th>Agreement Signing Date</th>\n",
       "      <th>Board Approval Date</th>\n",
       "      <th>Effective Date (Most Recent)</th>\n",
       "      <th>Closed Date (Most Recent)</th>\n",
       "      <th>Last Disbursement Date</th>\n",
       "    </tr>\n",
       "  </thead>\n",
       "  <tbody>\n",
       "    <tr>\n",
       "      <th>0</th>\n",
       "      <td>04/30/2023 12:00:00 AM</td>\n",
       "      <td>IBRD00010</td>\n",
       "      <td>EUROPE AND CENTRAL ASIA</td>\n",
       "      <td>FR</td>\n",
       "      <td>France</td>\n",
       "      <td>CREDIT NATIONAL</td>\n",
       "      <td>FR</td>\n",
       "      <td>France</td>\n",
       "      <td>NPL</td>\n",
       "      <td>Fully Repaid</td>\n",
       "      <td>4.25</td>\n",
       "      <td>NaN</td>\n",
       "      <td>P037383</td>\n",
       "      <td>RECONSTRUCTION</td>\n",
       "      <td>2.500000e+08</td>\n",
       "      <td>0.00</td>\n",
       "      <td>0.0</td>\n",
       "      <td>2.500000e+08</td>\n",
       "      <td>3.800000e+04</td>\n",
       "      <td>0.0</td>\n",
       "      <td>0.0</td>\n",
       "      <td>0.0</td>\n",
       "      <td>2.499620e+08</td>\n",
       "      <td>2.499620e+08</td>\n",
       "      <td>0</td>\n",
       "      <td>0.0</td>\n",
       "      <td>11/01/1952 12:00:00 AM</td>\n",
       "      <td>05/01/1977 12:00:00 AM</td>\n",
       "      <td>05/09/1947 12:00:00 AM</td>\n",
       "      <td>05/09/1947 12:00:00 AM</td>\n",
       "      <td>06/09/1947 12:00:00 AM</td>\n",
       "      <td>12/31/1947 12:00:00 AM</td>\n",
       "      <td>NaN</td>\n",
       "    </tr>\n",
       "    <tr>\n",
       "      <th>1</th>\n",
       "      <td>04/30/2023 12:00:00 AM</td>\n",
       "      <td>IBRD00020</td>\n",
       "      <td>EUROPE AND CENTRAL ASIA</td>\n",
       "      <td>NL</td>\n",
       "      <td>Netherlands</td>\n",
       "      <td>NaN</td>\n",
       "      <td>NaN</td>\n",
       "      <td>NaN</td>\n",
       "      <td>NPL</td>\n",
       "      <td>Fully Repaid</td>\n",
       "      <td>4.25</td>\n",
       "      <td>NaN</td>\n",
       "      <td>P037452</td>\n",
       "      <td>RECONSTRUCTION</td>\n",
       "      <td>1.910442e+08</td>\n",
       "      <td>0.00</td>\n",
       "      <td>0.0</td>\n",
       "      <td>1.910442e+08</td>\n",
       "      <td>1.033722e+08</td>\n",
       "      <td>0.0</td>\n",
       "      <td>0.0</td>\n",
       "      <td>0.0</td>\n",
       "      <td>8.767200e+07</td>\n",
       "      <td>8.767200e+07</td>\n",
       "      <td>0</td>\n",
       "      <td>0.0</td>\n",
       "      <td>04/01/1952 12:00:00 AM</td>\n",
       "      <td>10/01/1972 12:00:00 AM</td>\n",
       "      <td>08/07/1947 12:00:00 AM</td>\n",
       "      <td>08/07/1947 12:00:00 AM</td>\n",
       "      <td>09/11/1947 12:00:00 AM</td>\n",
       "      <td>03/31/1948 12:00:00 AM</td>\n",
       "      <td>NaN</td>\n",
       "    </tr>\n",
       "    <tr>\n",
       "      <th>2</th>\n",
       "      <td>04/30/2023 12:00:00 AM</td>\n",
       "      <td>IBRD00021</td>\n",
       "      <td>EUROPE AND CENTRAL ASIA</td>\n",
       "      <td>NL</td>\n",
       "      <td>Netherlands</td>\n",
       "      <td>NaN</td>\n",
       "      <td>NaN</td>\n",
       "      <td>NaN</td>\n",
       "      <td>NPL</td>\n",
       "      <td>Fully Repaid</td>\n",
       "      <td>4.25</td>\n",
       "      <td>NaN</td>\n",
       "      <td>P037452</td>\n",
       "      <td>RECONSTRUCTION</td>\n",
       "      <td>3.955788e+06</td>\n",
       "      <td>0.00</td>\n",
       "      <td>0.0</td>\n",
       "      <td>3.955788e+06</td>\n",
       "      <td>0.000000e+00</td>\n",
       "      <td>0.0</td>\n",
       "      <td>0.0</td>\n",
       "      <td>0.0</td>\n",
       "      <td>3.955788e+06</td>\n",
       "      <td>3.955788e+06</td>\n",
       "      <td>0</td>\n",
       "      <td>0.0</td>\n",
       "      <td>04/01/1953 12:00:00 AM</td>\n",
       "      <td>04/01/1954 12:00:00 AM</td>\n",
       "      <td>05/25/1948 12:00:00 AM</td>\n",
       "      <td>08/07/1947 12:00:00 AM</td>\n",
       "      <td>06/01/1948 12:00:00 AM</td>\n",
       "      <td>06/30/1948 12:00:00 AM</td>\n",
       "      <td>NaN</td>\n",
       "    </tr>\n",
       "    <tr>\n",
       "      <th>3</th>\n",
       "      <td>04/30/2023 12:00:00 AM</td>\n",
       "      <td>IBRD00030</td>\n",
       "      <td>EUROPE AND CENTRAL ASIA</td>\n",
       "      <td>DK</td>\n",
       "      <td>Denmark</td>\n",
       "      <td>NaN</td>\n",
       "      <td>NaN</td>\n",
       "      <td>NaN</td>\n",
       "      <td>NPL</td>\n",
       "      <td>Fully Repaid</td>\n",
       "      <td>4.25</td>\n",
       "      <td>NaN</td>\n",
       "      <td>P037362</td>\n",
       "      <td>RECONSTRUCTION</td>\n",
       "      <td>4.000000e+07</td>\n",
       "      <td>0.00</td>\n",
       "      <td>0.0</td>\n",
       "      <td>4.000000e+07</td>\n",
       "      <td>1.777100e+07</td>\n",
       "      <td>0.0</td>\n",
       "      <td>0.0</td>\n",
       "      <td>0.0</td>\n",
       "      <td>2.222900e+07</td>\n",
       "      <td>2.222900e+07</td>\n",
       "      <td>0</td>\n",
       "      <td>0.0</td>\n",
       "      <td>02/01/1953 12:00:00 AM</td>\n",
       "      <td>08/01/1972 12:00:00 AM</td>\n",
       "      <td>08/22/1947 12:00:00 AM</td>\n",
       "      <td>08/22/1947 12:00:00 AM</td>\n",
       "      <td>10/17/1947 12:00:00 AM</td>\n",
       "      <td>03/31/1949 12:00:00 AM</td>\n",
       "      <td>NaN</td>\n",
       "    </tr>\n",
       "    <tr>\n",
       "      <th>4</th>\n",
       "      <td>04/30/2023 12:00:00 AM</td>\n",
       "      <td>IBRD00040</td>\n",
       "      <td>EUROPE AND CENTRAL ASIA</td>\n",
       "      <td>LU</td>\n",
       "      <td>Luxembourg</td>\n",
       "      <td>NaN</td>\n",
       "      <td>NaN</td>\n",
       "      <td>NaN</td>\n",
       "      <td>NPL</td>\n",
       "      <td>Fully Repaid</td>\n",
       "      <td>4.25</td>\n",
       "      <td>NaN</td>\n",
       "      <td>P037451</td>\n",
       "      <td>RECONSTRUCTION</td>\n",
       "      <td>1.200000e+07</td>\n",
       "      <td>238016.98</td>\n",
       "      <td>0.0</td>\n",
       "      <td>1.176198e+07</td>\n",
       "      <td>1.619983e+06</td>\n",
       "      <td>0.0</td>\n",
       "      <td>0.0</td>\n",
       "      <td>0.0</td>\n",
       "      <td>1.014200e+07</td>\n",
       "      <td>1.014200e+07</td>\n",
       "      <td>0</td>\n",
       "      <td>0.0</td>\n",
       "      <td>07/15/1949 12:00:00 AM</td>\n",
       "      <td>07/15/1972 12:00:00 AM</td>\n",
       "      <td>08/28/1947 12:00:00 AM</td>\n",
       "      <td>08/28/1947 12:00:00 AM</td>\n",
       "      <td>10/24/1947 12:00:00 AM</td>\n",
       "      <td>03/31/1949 12:00:00 AM</td>\n",
       "      <td>NaN</td>\n",
       "    </tr>\n",
       "  </tbody>\n",
       "</table>\n",
       "</div>"
      ],
      "text/plain": [
       "            End of Period Loan Number                   Region Country Code  \\\n",
       "0  04/30/2023 12:00:00 AM   IBRD00010  EUROPE AND CENTRAL ASIA           FR   \n",
       "1  04/30/2023 12:00:00 AM   IBRD00020  EUROPE AND CENTRAL ASIA           NL   \n",
       "2  04/30/2023 12:00:00 AM   IBRD00021  EUROPE AND CENTRAL ASIA           NL   \n",
       "3  04/30/2023 12:00:00 AM   IBRD00030  EUROPE AND CENTRAL ASIA           DK   \n",
       "4  04/30/2023 12:00:00 AM   IBRD00040  EUROPE AND CENTRAL ASIA           LU   \n",
       "\n",
       "       Country         Borrower Guarantor Country Code Guarantor Loan Type  \\\n",
       "0       France  CREDIT NATIONAL                     FR    France       NPL   \n",
       "1  Netherlands              NaN                    NaN       NaN       NPL   \n",
       "2  Netherlands              NaN                    NaN       NaN       NPL   \n",
       "3      Denmark              NaN                    NaN       NaN       NPL   \n",
       "4   Luxembourg              NaN                    NaN       NaN       NPL   \n",
       "\n",
       "    Loan Status  Interest Rate  Currency of Commitment Project ID  \\\n",
       "0  Fully Repaid           4.25                     NaN    P037383   \n",
       "1  Fully Repaid           4.25                     NaN    P037452   \n",
       "2  Fully Repaid           4.25                     NaN    P037452   \n",
       "3  Fully Repaid           4.25                     NaN    P037362   \n",
       "4  Fully Repaid           4.25                     NaN    P037451   \n",
       "\n",
       "     Project Name  Original Principal Amount  Cancelled Amount  \\\n",
       "0  RECONSTRUCTION               2.500000e+08              0.00   \n",
       "1  RECONSTRUCTION               1.910442e+08              0.00   \n",
       "2  RECONSTRUCTION               3.955788e+06              0.00   \n",
       "3  RECONSTRUCTION               4.000000e+07              0.00   \n",
       "4  RECONSTRUCTION               1.200000e+07         238016.98   \n",
       "\n",
       "   Undisbursed Amount  Disbursed Amount  Repaid to IBRD  Due to IBRD  \\\n",
       "0                 0.0      2.500000e+08    3.800000e+04          0.0   \n",
       "1                 0.0      1.910442e+08    1.033722e+08          0.0   \n",
       "2                 0.0      3.955788e+06    0.000000e+00          0.0   \n",
       "3                 0.0      4.000000e+07    1.777100e+07          0.0   \n",
       "4                 0.0      1.176198e+07    1.619983e+06          0.0   \n",
       "\n",
       "   Exchange Adjustment  Borrower's Obligation  Sold 3rd Party  \\\n",
       "0                  0.0                    0.0    2.499620e+08   \n",
       "1                  0.0                    0.0    8.767200e+07   \n",
       "2                  0.0                    0.0    3.955788e+06   \n",
       "3                  0.0                    0.0    2.222900e+07   \n",
       "4                  0.0                    0.0    1.014200e+07   \n",
       "\n",
       "   Repaid 3rd Party  Due 3rd Party  Loans Held    First Repayment Date  \\\n",
       "0      2.499620e+08              0         0.0  11/01/1952 12:00:00 AM   \n",
       "1      8.767200e+07              0         0.0  04/01/1952 12:00:00 AM   \n",
       "2      3.955788e+06              0         0.0  04/01/1953 12:00:00 AM   \n",
       "3      2.222900e+07              0         0.0  02/01/1953 12:00:00 AM   \n",
       "4      1.014200e+07              0         0.0  07/15/1949 12:00:00 AM   \n",
       "\n",
       "      Last Repayment Date  Agreement Signing Date     Board Approval Date  \\\n",
       "0  05/01/1977 12:00:00 AM  05/09/1947 12:00:00 AM  05/09/1947 12:00:00 AM   \n",
       "1  10/01/1972 12:00:00 AM  08/07/1947 12:00:00 AM  08/07/1947 12:00:00 AM   \n",
       "2  04/01/1954 12:00:00 AM  05/25/1948 12:00:00 AM  08/07/1947 12:00:00 AM   \n",
       "3  08/01/1972 12:00:00 AM  08/22/1947 12:00:00 AM  08/22/1947 12:00:00 AM   \n",
       "4  07/15/1972 12:00:00 AM  08/28/1947 12:00:00 AM  08/28/1947 12:00:00 AM   \n",
       "\n",
       "  Effective Date (Most Recent) Closed Date (Most Recent)  \\\n",
       "0       06/09/1947 12:00:00 AM    12/31/1947 12:00:00 AM   \n",
       "1       09/11/1947 12:00:00 AM    03/31/1948 12:00:00 AM   \n",
       "2       06/01/1948 12:00:00 AM    06/30/1948 12:00:00 AM   \n",
       "3       10/17/1947 12:00:00 AM    03/31/1949 12:00:00 AM   \n",
       "4       10/24/1947 12:00:00 AM    03/31/1949 12:00:00 AM   \n",
       "\n",
       "  Last Disbursement Date  \n",
       "0                    NaN  \n",
       "1                    NaN  \n",
       "2                    NaN  \n",
       "3                    NaN  \n",
       "4                    NaN  "
      ]
     },
     "execution_count": 2,
     "metadata": {},
     "output_type": "execute_result"
    }
   ],
   "source": [
    "df = pd.read_csv('../../data/raw/IBRD_Statement_of_Loans_-_Latest_Available_Snapshot.csv')\n",
    "df.head()"
   ]
  },
  {
   "cell_type": "markdown",
   "id": "f59e32c9",
   "metadata": {},
   "source": [
    "# IV. Data Preparation"
   ]
  },
  {
   "cell_type": "markdown",
   "id": "db0a5756",
   "metadata": {},
   "source": [
    "## IV.A. Data Shape Inspection"
   ]
  },
  {
   "cell_type": "code",
   "execution_count": 3,
   "id": "aad7798b",
   "metadata": {},
   "outputs": [
    {
     "data": {
      "text/plain": [
       "(8991, 33)"
      ]
     },
     "execution_count": 3,
     "metadata": {},
     "output_type": "execute_result"
    }
   ],
   "source": [
    "df.shape"
   ]
  },
  {
   "cell_type": "markdown",
   "id": "3389b1bf",
   "metadata": {},
   "source": [
    "## IV.B. Data Information Inspection"
   ]
  },
  {
   "cell_type": "code",
   "execution_count": 4,
   "id": "c6d7319a",
   "metadata": {},
   "outputs": [
    {
     "name": "stdout",
     "output_type": "stream",
     "text": [
      "<class 'pandas.core.frame.DataFrame'>\n",
      "RangeIndex: 8991 entries, 0 to 8990\n",
      "Data columns (total 33 columns):\n",
      " #   Column                        Non-Null Count  Dtype  \n",
      "---  ------                        --------------  -----  \n",
      " 0   End of Period                 8991 non-null   object \n",
      " 1   Loan Number                   8991 non-null   object \n",
      " 2   Region                        8991 non-null   object \n",
      " 3   Country Code                  8989 non-null   object \n",
      " 4   Country                       8991 non-null   object \n",
      " 5   Borrower                      8934 non-null   object \n",
      " 6   Guarantor Country Code        8709 non-null   object \n",
      " 7   Guarantor                     8711 non-null   object \n",
      " 8   Loan Type                     8991 non-null   object \n",
      " 9   Loan Status                   8991 non-null   object \n",
      " 10  Interest Rate                 8897 non-null   float64\n",
      " 11  Currency of Commitment        0 non-null      float64\n",
      " 12  Project ID                    8991 non-null   object \n",
      " 13  Project Name                  8991 non-null   object \n",
      " 14  Original Principal Amount     8991 non-null   float64\n",
      " 15  Cancelled Amount              8991 non-null   float64\n",
      " 16  Undisbursed Amount            8991 non-null   float64\n",
      " 17  Disbursed Amount              8991 non-null   float64\n",
      " 18  Repaid to IBRD                8991 non-null   float64\n",
      " 19  Due to IBRD                   8991 non-null   float64\n",
      " 20  Exchange Adjustment           8991 non-null   float64\n",
      " 21  Borrower's Obligation         8991 non-null   float64\n",
      " 22  Sold 3rd Party                8991 non-null   float64\n",
      " 23  Repaid 3rd Party              8991 non-null   float64\n",
      " 24  Due 3rd Party                 8991 non-null   int64  \n",
      " 25  Loans Held                    8991 non-null   float64\n",
      " 26  First Repayment Date          8949 non-null   object \n",
      " 27  Last Repayment Date           8950 non-null   object \n",
      " 28  Agreement Signing Date        8841 non-null   object \n",
      " 29  Board Approval Date           8991 non-null   object \n",
      " 30  Effective Date (Most Recent)  8896 non-null   object \n",
      " 31  Closed Date (Most Recent)     8983 non-null   object \n",
      " 32  Last Disbursement Date        5459 non-null   object \n",
      "dtypes: float64(13), int64(1), object(19)\n",
      "memory usage: 2.3+ MB\n"
     ]
    }
   ],
   "source": [
    "df.info()"
   ]
  },
  {
   "cell_type": "markdown",
   "id": "e9ce06ea",
   "metadata": {},
   "source": [
    "## IV.C. Data Definition"
   ]
  },
  {
   "cell_type": "markdown",
   "id": "50d58989",
   "metadata": {},
   "source": [
    "| Variables | Columns Definition |\n",
    "| :-: | :-: |\n",
    "| End of Period | _Column Definition_ |\n",
    "| Loan Number | _Column Definition_ |\n",
    "| Region | _Column Definition_ |\n",
    "| Country Code | _Column Definition_ |\n",
    "| Country | _Column Definition_ |\n",
    "| Borrower | _Column Definition_ |\n",
    "| Guarantor Country Code | _Column Definition_ |\n",
    "| Guarantor | _Column Definition_ |\n",
    "| Loan Type | _Column Definition_ |\n",
    "| Loan Status | _Column Definition_ |\n",
    "| Interest Rate | _Column Definition_ |\n",
    "| Currency of Commitment | _Column Definition_ |\n",
    "| Project ID | _Column Definition_ |\n",
    "| Project Name | _Column Definition_ |\n",
    "| Original Principal Amount | _Column Definition_ |\n",
    "| Cancelled Amount | _Column Definition_ |\n",
    "| Undisbursed Amount | _Column Definition_ |\n",
    "| Disbursed Amount | _Column Definition_ |\n",
    "| Repaid to IBRD | _Column Definition_ |\n",
    "| Due to IBRD | _Data Type_ |\n",
    "| Exchange Adjustment | _Data Type_ |\n",
    "| Borrower's Obligation | _Data Type_ |\n",
    "| Sold 3rd Party | _Data Type_ |\n",
    "| Repaid 3rd Party | _Data Type_ |\n",
    "| Due 3rd Party | _Data Type_ |\n",
    "| Loans Held | _Data Type_ |\n",
    "| First Repayment Date | _Data Type_ |\n",
    "| Last Repayment Date | _Data Type_ |\n",
    "| Agreement Signing Date | _Data Type_ |\n",
    "| Board Approval Date | _Data Type_ |\n",
    "| Effective Date (Most Recent) | _Data Type_ |\n",
    "| Closed Date (Most Recent) | _Data Type_ |\n",
    "| Last Disbursement Date | _Data Type_ |"
   ]
  },
  {
   "cell_type": "markdown",
   "id": "3a23e914",
   "metadata": {},
   "source": [
    "## IV.D. Data Validation"
   ]
  },
  {
   "cell_type": "markdown",
   "id": "7157f471",
   "metadata": {},
   "source": [
    "| Variables | Data Types |\n",
    "| :-: | :-: |\n",
    "| _column_0_ | _Data Type_ |\n",
    "| _column_1_ | _Data Type_ |\n",
    "| _column_2_ | _Data Type_ |"
   ]
  },
  {
   "cell_type": "code",
   "execution_count": null,
   "id": "48c76c4e",
   "metadata": {},
   "outputs": [],
   "source": [
    "# Convert to boolean\n",
    "df_aggregated[\"column_name\"] = df_aggregated[\"column_name\"].astype(bool)\n",
    "\n",
    "# Convert to datetime\n",
    "df_aggregated[\"column_name\"] = pd.to_datetime(df_aggregated[\"column_name\"])\n",
    "\n",
    "# Convert to float\n",
    "df_aggregated[\"column_name\"] = df_aggregated[\"column_name\"].astype(float)\n",
    "\n",
    "# Convert to integer\n",
    "df_aggregated[\"column_name\"] = df_aggregated[\"column_name\"].astype(int)\n",
    "\n",
    "# Convert to string\n",
    "df_aggregated[\"column_name\"] = df_aggregated[\"column_name\"].astype(str)"
   ]
  },
  {
   "cell_type": "code",
   "execution_count": null,
   "id": "80a0825e",
   "metadata": {},
   "outputs": [],
   "source": [
    "df_aggregated.head()"
   ]
  },
  {
   "cell_type": "code",
   "execution_count": null,
   "id": "f9d53b00",
   "metadata": {},
   "outputs": [],
   "source": [
    "df_aggregated.info()"
   ]
  },
  {
   "cell_type": "markdown",
   "id": "292fbbf4",
   "metadata": {},
   "source": [
    "## IV.E. Data Segregation"
   ]
  },
  {
   "cell_type": "code",
   "execution_count": null,
   "id": "7e53a3a1",
   "metadata": {},
   "outputs": [],
   "source": [
    "X = df_aggregated.drop(\"label_target\", axis = 1)\n",
    "y = df_aggregated[\"label_target\"]"
   ]
  },
  {
   "cell_type": "code",
   "execution_count": null,
   "id": "9b6f0c4d",
   "metadata": {},
   "outputs": [],
   "source": [
    "X.shape, y.shape"
   ]
  },
  {
   "cell_type": "code",
   "execution_count": null,
   "id": "a57529a4",
   "metadata": {},
   "outputs": [],
   "source": [
    "X.head()"
   ]
  },
  {
   "cell_type": "code",
   "execution_count": null,
   "id": "0e8c7028",
   "metadata": {},
   "outputs": [],
   "source": [
    "y.head()"
   ]
  },
  {
   "cell_type": "markdown",
   "id": "c5c97bd7",
   "metadata": {},
   "source": [
    "## IV.F. Export Data"
   ]
  },
  {
   "cell_type": "code",
   "execution_count": null,
   "id": "42f61b26",
   "metadata": {},
   "outputs": [],
   "source": [
    "X.to_pickle('../../data/processed/X.pkl')\n",
    "y.to_pickle('../../data/processed/y.pkl')"
   ]
  }
 ],
 "metadata": {
  "kernelspec": {
   "display_name": "Python 3",
   "language": "python",
   "name": "python3"
  },
  "language_info": {
   "codemirror_mode": {
    "name": "ipython",
    "version": 3
   },
   "file_extension": ".py",
   "mimetype": "text/x-python",
   "name": "python",
   "nbconvert_exporter": "python",
   "pygments_lexer": "ipython3",
   "version": "3.8.8"
  }
 },
 "nbformat": 4,
 "nbformat_minor": 5
}
