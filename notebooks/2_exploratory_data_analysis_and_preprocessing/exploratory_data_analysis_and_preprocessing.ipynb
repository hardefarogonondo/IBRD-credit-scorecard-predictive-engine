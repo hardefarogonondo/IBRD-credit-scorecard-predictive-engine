{
 "cells": [
  {
   "cell_type": "markdown",
   "id": "20203c0f",
   "metadata": {},
   "source": [
    "# I. Project Team Members"
   ]
  },
  {
   "cell_type": "markdown",
   "id": "0aa3d7f4",
   "metadata": {},
   "source": [
    "| Prepared by | Email | Prepared for |\n",
    "| :-: | :-: | :-: |\n",
    "| **Hardefa Rogonondo** | hardefarogonondo@gmail.com | **IBRD Credit Scorecard Predictive Engine** |"
   ]
  },
  {
   "cell_type": "markdown",
   "id": "b05cd469",
   "metadata": {},
   "source": [
    "# II. Notebook Target Definition"
   ]
  },
  {
   "cell_type": "markdown",
   "id": "47bae1d2",
   "metadata": {},
   "source": [
    "This notebook outlines the exploratory data analysis (EDA) and preprocessing stages for IBRD Loan Credit Scorecard Predictive Engine Project. Starting with the cleaned IBRD loan dataset, we dive into comprehensive EDA to discover patterns, anomalies, and relationships within the data, supported by various visualizations. During this process, we also handle missing values to maintain the integrity of our data. In the preprocessing stage, we normalize the data if necessary, making sure it's in the most suitable form for our future machine learning models. The outcome of this notebook is a ready-to-use, preprocessed dataset, setting the stage for the next step in our pipeline: feature engineering."
   ]
  },
  {
   "cell_type": "markdown",
   "id": "3213f42d",
   "metadata": {},
   "source": [
    "# III. Notebook Setup"
   ]
  },
  {
   "cell_type": "markdown",
   "id": "bb5c3810",
   "metadata": {},
   "source": [
    "## III.A. Import Libraries"
   ]
  },
  {
   "cell_type": "code",
   "execution_count": 1,
   "id": "ac84c896",
   "metadata": {},
   "outputs": [],
   "source": [
    "import matplotlib.pyplot as plt\n",
    "import numpy as np\n",
    "import pandas as pd\n",
    "import pickle\n",
    "import seaborn as sns\n",
    "\n",
    "pd.set_option('display.max_columns', None)\n",
    "pd.set_option('display.max_rows', None)"
   ]
  },
  {
   "cell_type": "markdown",
   "id": "7291e85b",
   "metadata": {},
   "source": [
    "## III.B. Import Data"
   ]
  },
  {
   "cell_type": "code",
   "execution_count": 2,
   "id": "2f425995",
   "metadata": {},
   "outputs": [
    {
     "data": {
      "text/html": [
       "<div>\n",
       "<style scoped>\n",
       "    .dataframe tbody tr th:only-of-type {\n",
       "        vertical-align: middle;\n",
       "    }\n",
       "\n",
       "    .dataframe tbody tr th {\n",
       "        vertical-align: top;\n",
       "    }\n",
       "\n",
       "    .dataframe thead th {\n",
       "        text-align: right;\n",
       "    }\n",
       "</style>\n",
       "<table border=\"1\" class=\"dataframe\">\n",
       "  <thead>\n",
       "    <tr style=\"text-align: right;\">\n",
       "      <th></th>\n",
       "      <th>End of Period</th>\n",
       "      <th>Loan Number</th>\n",
       "      <th>Region</th>\n",
       "      <th>Country Code</th>\n",
       "      <th>Country</th>\n",
       "      <th>Borrower</th>\n",
       "      <th>Guarantor Country Code</th>\n",
       "      <th>Guarantor</th>\n",
       "      <th>Loan Type</th>\n",
       "      <th>Loan Status</th>\n",
       "      <th>Interest Rate</th>\n",
       "      <th>Currency of Commitment</th>\n",
       "      <th>Project ID</th>\n",
       "      <th>Project Name</th>\n",
       "      <th>Original Principal Amount</th>\n",
       "      <th>Cancelled Amount</th>\n",
       "      <th>Undisbursed Amount</th>\n",
       "      <th>Disbursed Amount</th>\n",
       "      <th>Repaid to IBRD</th>\n",
       "      <th>Due to IBRD</th>\n",
       "      <th>Exchange Adjustment</th>\n",
       "      <th>Borrower's Obligation</th>\n",
       "      <th>Sold 3rd Party</th>\n",
       "      <th>Repaid 3rd Party</th>\n",
       "      <th>Due 3rd Party</th>\n",
       "      <th>Loans Held</th>\n",
       "      <th>First Repayment Date</th>\n",
       "      <th>Last Repayment Date</th>\n",
       "      <th>Agreement Signing Date</th>\n",
       "      <th>Board Approval Date</th>\n",
       "      <th>Effective Date (Most Recent)</th>\n",
       "      <th>Closed Date (Most Recent)</th>\n",
       "      <th>Last Disbursement Date</th>\n",
       "    </tr>\n",
       "  </thead>\n",
       "  <tbody>\n",
       "    <tr>\n",
       "      <th>0</th>\n",
       "      <td>2023-04-30</td>\n",
       "      <td>IBRD00010</td>\n",
       "      <td>EUROPE AND CENTRAL ASIA</td>\n",
       "      <td>FR</td>\n",
       "      <td>France</td>\n",
       "      <td>CREDIT NATIONAL</td>\n",
       "      <td>FR</td>\n",
       "      <td>France</td>\n",
       "      <td>NPL</td>\n",
       "      <td>Fully Repaid</td>\n",
       "      <td>4.25</td>\n",
       "      <td>NaN</td>\n",
       "      <td>P037383</td>\n",
       "      <td>RECONSTRUCTION</td>\n",
       "      <td>2.500000e+08</td>\n",
       "      <td>0.00</td>\n",
       "      <td>0.0</td>\n",
       "      <td>2.500000e+08</td>\n",
       "      <td>3.800000e+04</td>\n",
       "      <td>0.0</td>\n",
       "      <td>0.0</td>\n",
       "      <td>0.0</td>\n",
       "      <td>2.499620e+08</td>\n",
       "      <td>2.499620e+08</td>\n",
       "      <td>0</td>\n",
       "      <td>0.0</td>\n",
       "      <td>1952-11-01</td>\n",
       "      <td>1977-05-01</td>\n",
       "      <td>1947-05-09</td>\n",
       "      <td>1947-05-09</td>\n",
       "      <td>1947-06-09</td>\n",
       "      <td>1947-12-31</td>\n",
       "      <td>NaT</td>\n",
       "    </tr>\n",
       "    <tr>\n",
       "      <th>1</th>\n",
       "      <td>2023-04-30</td>\n",
       "      <td>IBRD00020</td>\n",
       "      <td>EUROPE AND CENTRAL ASIA</td>\n",
       "      <td>NL</td>\n",
       "      <td>Netherlands</td>\n",
       "      <td>NaN</td>\n",
       "      <td>NaN</td>\n",
       "      <td>NaN</td>\n",
       "      <td>NPL</td>\n",
       "      <td>Fully Repaid</td>\n",
       "      <td>4.25</td>\n",
       "      <td>NaN</td>\n",
       "      <td>P037452</td>\n",
       "      <td>RECONSTRUCTION</td>\n",
       "      <td>1.910442e+08</td>\n",
       "      <td>0.00</td>\n",
       "      <td>0.0</td>\n",
       "      <td>1.910442e+08</td>\n",
       "      <td>1.033722e+08</td>\n",
       "      <td>0.0</td>\n",
       "      <td>0.0</td>\n",
       "      <td>0.0</td>\n",
       "      <td>8.767200e+07</td>\n",
       "      <td>8.767200e+07</td>\n",
       "      <td>0</td>\n",
       "      <td>0.0</td>\n",
       "      <td>1952-04-01</td>\n",
       "      <td>1972-10-01</td>\n",
       "      <td>1947-08-07</td>\n",
       "      <td>1947-08-07</td>\n",
       "      <td>1947-09-11</td>\n",
       "      <td>1948-03-31</td>\n",
       "      <td>NaT</td>\n",
       "    </tr>\n",
       "    <tr>\n",
       "      <th>2</th>\n",
       "      <td>2023-04-30</td>\n",
       "      <td>IBRD00021</td>\n",
       "      <td>EUROPE AND CENTRAL ASIA</td>\n",
       "      <td>NL</td>\n",
       "      <td>Netherlands</td>\n",
       "      <td>NaN</td>\n",
       "      <td>NaN</td>\n",
       "      <td>NaN</td>\n",
       "      <td>NPL</td>\n",
       "      <td>Fully Repaid</td>\n",
       "      <td>4.25</td>\n",
       "      <td>NaN</td>\n",
       "      <td>P037452</td>\n",
       "      <td>RECONSTRUCTION</td>\n",
       "      <td>3.955788e+06</td>\n",
       "      <td>0.00</td>\n",
       "      <td>0.0</td>\n",
       "      <td>3.955788e+06</td>\n",
       "      <td>0.000000e+00</td>\n",
       "      <td>0.0</td>\n",
       "      <td>0.0</td>\n",
       "      <td>0.0</td>\n",
       "      <td>3.955788e+06</td>\n",
       "      <td>3.955788e+06</td>\n",
       "      <td>0</td>\n",
       "      <td>0.0</td>\n",
       "      <td>1953-04-01</td>\n",
       "      <td>1954-04-01</td>\n",
       "      <td>1948-05-25</td>\n",
       "      <td>1947-08-07</td>\n",
       "      <td>1948-06-01</td>\n",
       "      <td>1948-06-30</td>\n",
       "      <td>NaT</td>\n",
       "    </tr>\n",
       "    <tr>\n",
       "      <th>3</th>\n",
       "      <td>2023-04-30</td>\n",
       "      <td>IBRD00030</td>\n",
       "      <td>EUROPE AND CENTRAL ASIA</td>\n",
       "      <td>DK</td>\n",
       "      <td>Denmark</td>\n",
       "      <td>NaN</td>\n",
       "      <td>NaN</td>\n",
       "      <td>NaN</td>\n",
       "      <td>NPL</td>\n",
       "      <td>Fully Repaid</td>\n",
       "      <td>4.25</td>\n",
       "      <td>NaN</td>\n",
       "      <td>P037362</td>\n",
       "      <td>RECONSTRUCTION</td>\n",
       "      <td>4.000000e+07</td>\n",
       "      <td>0.00</td>\n",
       "      <td>0.0</td>\n",
       "      <td>4.000000e+07</td>\n",
       "      <td>1.777100e+07</td>\n",
       "      <td>0.0</td>\n",
       "      <td>0.0</td>\n",
       "      <td>0.0</td>\n",
       "      <td>2.222900e+07</td>\n",
       "      <td>2.222900e+07</td>\n",
       "      <td>0</td>\n",
       "      <td>0.0</td>\n",
       "      <td>1953-02-01</td>\n",
       "      <td>1972-08-01</td>\n",
       "      <td>1947-08-22</td>\n",
       "      <td>1947-08-22</td>\n",
       "      <td>1947-10-17</td>\n",
       "      <td>1949-03-31</td>\n",
       "      <td>NaT</td>\n",
       "    </tr>\n",
       "    <tr>\n",
       "      <th>4</th>\n",
       "      <td>2023-04-30</td>\n",
       "      <td>IBRD00040</td>\n",
       "      <td>EUROPE AND CENTRAL ASIA</td>\n",
       "      <td>LU</td>\n",
       "      <td>Luxembourg</td>\n",
       "      <td>NaN</td>\n",
       "      <td>NaN</td>\n",
       "      <td>NaN</td>\n",
       "      <td>NPL</td>\n",
       "      <td>Fully Repaid</td>\n",
       "      <td>4.25</td>\n",
       "      <td>NaN</td>\n",
       "      <td>P037451</td>\n",
       "      <td>RECONSTRUCTION</td>\n",
       "      <td>1.200000e+07</td>\n",
       "      <td>238016.98</td>\n",
       "      <td>0.0</td>\n",
       "      <td>1.176198e+07</td>\n",
       "      <td>1.619983e+06</td>\n",
       "      <td>0.0</td>\n",
       "      <td>0.0</td>\n",
       "      <td>0.0</td>\n",
       "      <td>1.014200e+07</td>\n",
       "      <td>1.014200e+07</td>\n",
       "      <td>0</td>\n",
       "      <td>0.0</td>\n",
       "      <td>1949-07-15</td>\n",
       "      <td>1972-07-15</td>\n",
       "      <td>1947-08-28</td>\n",
       "      <td>1947-08-28</td>\n",
       "      <td>1947-10-24</td>\n",
       "      <td>1949-03-31</td>\n",
       "      <td>NaT</td>\n",
       "    </tr>\n",
       "  </tbody>\n",
       "</table>\n",
       "</div>"
      ],
      "text/plain": [
       "  End of Period Loan Number                   Region Country Code  \\\n",
       "0    2023-04-30   IBRD00010  EUROPE AND CENTRAL ASIA           FR   \n",
       "1    2023-04-30   IBRD00020  EUROPE AND CENTRAL ASIA           NL   \n",
       "2    2023-04-30   IBRD00021  EUROPE AND CENTRAL ASIA           NL   \n",
       "3    2023-04-30   IBRD00030  EUROPE AND CENTRAL ASIA           DK   \n",
       "4    2023-04-30   IBRD00040  EUROPE AND CENTRAL ASIA           LU   \n",
       "\n",
       "       Country         Borrower Guarantor Country Code Guarantor Loan Type  \\\n",
       "0       France  CREDIT NATIONAL                     FR    France       NPL   \n",
       "1  Netherlands              NaN                    NaN       NaN       NPL   \n",
       "2  Netherlands              NaN                    NaN       NaN       NPL   \n",
       "3      Denmark              NaN                    NaN       NaN       NPL   \n",
       "4   Luxembourg              NaN                    NaN       NaN       NPL   \n",
       "\n",
       "    Loan Status  Interest Rate  Currency of Commitment Project ID  \\\n",
       "0  Fully Repaid           4.25                     NaN    P037383   \n",
       "1  Fully Repaid           4.25                     NaN    P037452   \n",
       "2  Fully Repaid           4.25                     NaN    P037452   \n",
       "3  Fully Repaid           4.25                     NaN    P037362   \n",
       "4  Fully Repaid           4.25                     NaN    P037451   \n",
       "\n",
       "     Project Name  Original Principal Amount  Cancelled Amount  \\\n",
       "0  RECONSTRUCTION               2.500000e+08              0.00   \n",
       "1  RECONSTRUCTION               1.910442e+08              0.00   \n",
       "2  RECONSTRUCTION               3.955788e+06              0.00   \n",
       "3  RECONSTRUCTION               4.000000e+07              0.00   \n",
       "4  RECONSTRUCTION               1.200000e+07         238016.98   \n",
       "\n",
       "   Undisbursed Amount  Disbursed Amount  Repaid to IBRD  Due to IBRD  \\\n",
       "0                 0.0      2.500000e+08    3.800000e+04          0.0   \n",
       "1                 0.0      1.910442e+08    1.033722e+08          0.0   \n",
       "2                 0.0      3.955788e+06    0.000000e+00          0.0   \n",
       "3                 0.0      4.000000e+07    1.777100e+07          0.0   \n",
       "4                 0.0      1.176198e+07    1.619983e+06          0.0   \n",
       "\n",
       "   Exchange Adjustment  Borrower's Obligation  Sold 3rd Party  \\\n",
       "0                  0.0                    0.0    2.499620e+08   \n",
       "1                  0.0                    0.0    8.767200e+07   \n",
       "2                  0.0                    0.0    3.955788e+06   \n",
       "3                  0.0                    0.0    2.222900e+07   \n",
       "4                  0.0                    0.0    1.014200e+07   \n",
       "\n",
       "   Repaid 3rd Party  Due 3rd Party  Loans Held First Repayment Date  \\\n",
       "0      2.499620e+08              0         0.0           1952-11-01   \n",
       "1      8.767200e+07              0         0.0           1952-04-01   \n",
       "2      3.955788e+06              0         0.0           1953-04-01   \n",
       "3      2.222900e+07              0         0.0           1953-02-01   \n",
       "4      1.014200e+07              0         0.0           1949-07-15   \n",
       "\n",
       "  Last Repayment Date Agreement Signing Date Board Approval Date  \\\n",
       "0          1977-05-01             1947-05-09          1947-05-09   \n",
       "1          1972-10-01             1947-08-07          1947-08-07   \n",
       "2          1954-04-01             1948-05-25          1947-08-07   \n",
       "3          1972-08-01             1947-08-22          1947-08-22   \n",
       "4          1972-07-15             1947-08-28          1947-08-28   \n",
       "\n",
       "  Effective Date (Most Recent) Closed Date (Most Recent)  \\\n",
       "0                   1947-06-09                1947-12-31   \n",
       "1                   1947-09-11                1948-03-31   \n",
       "2                   1948-06-01                1948-06-30   \n",
       "3                   1947-10-17                1949-03-31   \n",
       "4                   1947-10-24                1949-03-31   \n",
       "\n",
       "  Last Disbursement Date  \n",
       "0                    NaT  \n",
       "1                    NaT  \n",
       "2                    NaT  \n",
       "3                    NaT  \n",
       "4                    NaT  "
      ]
     },
     "execution_count": 2,
     "metadata": {},
     "output_type": "execute_result"
    }
   ],
   "source": [
    "df = pd.read_pickle('../../data/processed/df.pkl')\n",
    "df.head()"
   ]
  },
  {
   "cell_type": "markdown",
   "id": "f59e32c9",
   "metadata": {},
   "source": [
    "# IV. Exploratory Data Analysis"
   ]
  },
  {
   "cell_type": "markdown",
   "id": "db0a5756",
   "metadata": {},
   "source": [
    "## IV.A. Data Shape Inspection"
   ]
  },
  {
   "cell_type": "code",
   "execution_count": null,
   "id": "aad7798b",
   "metadata": {},
   "outputs": [],
   "source": [
    "df.shape"
   ]
  },
  {
   "cell_type": "markdown",
   "id": "3389b1bf",
   "metadata": {},
   "source": [
    "## IV.B. Data Information Inspection"
   ]
  },
  {
   "cell_type": "code",
   "execution_count": null,
   "id": "c6d7319a",
   "metadata": {},
   "outputs": [],
   "source": [
    "df.info()"
   ]
  },
  {
   "cell_type": "markdown",
   "id": "d050ddd4",
   "metadata": {},
   "source": [
    "## IV.C. Missing Values Inspection"
   ]
  },
  {
   "cell_type": "code",
   "execution_count": null,
   "id": "1f95221a",
   "metadata": {
    "scrolled": true
   },
   "outputs": [],
   "source": [
    "df_missing = pd.DataFrame(df.isnull().sum().sort_values() / len(df) * 100).reset_index()\n",
    "df_missing.columns = [\"variables\", \"missing_percentage\"]\n",
    "df_missing"
   ]
  },
  {
   "cell_type": "code",
   "execution_count": null,
   "id": "8fc9bffd",
   "metadata": {},
   "outputs": [],
   "source": [
    "sns.barplot(data = df_missing,\n",
    "            x = \"variables\",\n",
    "            y = \"missing_percentage\",\n",
    "            palette = 'Blues')\n",
    "plt.title(\"Dataset Null Values Proportion\")\n",
    "plt.xticks(rotation = 'vertical')\n",
    "plt.show()"
   ]
  },
  {
   "cell_type": "markdown",
   "id": "9c1b7798",
   "metadata": {},
   "source": [
    "### IV.C.1. Missing Values Handling"
   ]
  },
  {
   "cell_type": "code",
   "execution_count": null,
   "id": "03f171fc",
   "metadata": {},
   "outputs": [],
   "source": [
    "df.drop(columns = [\"Currency of Commitment\"], inplace = True)\n",
    "df.shape"
   ]
  },
  {
   "cell_type": "code",
   "execution_count": null,
   "id": "749fab7f",
   "metadata": {},
   "outputs": [],
   "source": [
    "df.head()"
   ]
  },
  {
   "cell_type": "markdown",
   "id": "330ea738",
   "metadata": {},
   "source": [
    "## IV.D. Duplicated Values Inspection"
   ]
  },
  {
   "cell_type": "code",
   "execution_count": null,
   "id": "45d41976",
   "metadata": {},
   "outputs": [],
   "source": [
    "df_duplicated = df[df.duplicated(keep = False)]\n",
    "df_duplicated.shape"
   ]
  },
  {
   "cell_type": "code",
   "execution_count": null,
   "id": "96e8bc3d",
   "metadata": {},
   "outputs": [],
   "source": [
    "df_duplicated"
   ]
  },
  {
   "cell_type": "markdown",
   "id": "38374bc0-52d1-4a98-aa20-c0f218d90b32",
   "metadata": {},
   "source": [
    "## IV.E. Preliminary Data Analysis"
   ]
  },
  {
   "cell_type": "markdown",
   "id": "035351bd-88b0-41a5-9791-ef7d85a90af1",
   "metadata": {},
   "source": [
    "### IV.E.1. Loan "
   ]
  },
  {
   "cell_type": "code",
   "execution_count": 3,
   "id": "3b83cbdd-94b9-4459-a133-ff61c2c9ae14",
   "metadata": {},
   "outputs": [
    {
     "name": "stdout",
     "output_type": "stream",
     "text": [
      "Max End of Period: 2023-04-26 00:00:00\n",
      "Min End of Period: 1947-05-09 00:00:00\n"
     ]
    }
   ],
   "source": [
    "end_of_period_max = df[\"Agreement Signing Date\"].max()\n",
    "end_of_period_min = df[\"Agreement Signing Date\"].min()\n",
    "\n",
    "print(f\"Max End of Period: {end_of_period_max}\")\n",
    "print(f\"Min End of Period: {end_of_period_min}\")"
   ]
  },
  {
   "cell_type": "code",
   "execution_count": 4,
   "id": "98b19f14-c6d9-415b-a5d5-0434fb7a8e17",
   "metadata": {},
   "outputs": [
    {
     "name": "stdout",
     "output_type": "stream",
     "text": [
      "Max End of Period: 2023-04-28 00:00:00\n",
      "Min End of Period: 1947-05-09 00:00:00\n"
     ]
    }
   ],
   "source": [
    "end_of_period_max = df[\"Board Approval Date\"].max()\n",
    "end_of_period_min = df[\"Board Approval Date\"].min()\n",
    "\n",
    "print(f\"Max End of Period: {end_of_period_max}\")\n",
    "print(f\"Min End of Period: {end_of_period_min}\")"
   ]
  },
  {
   "cell_type": "code",
   "execution_count": 5,
   "id": "c45cf277-dddb-4e70-8e44-d32a2979fbff",
   "metadata": {},
   "outputs": [
    {
     "name": "stdout",
     "output_type": "stream",
     "text": [
      "Max End of Period: 2023-12-31 00:00:00\n",
      "Min End of Period: 1947-06-09 00:00:00\n"
     ]
    }
   ],
   "source": [
    "end_of_period_max = df[\"Effective Date (Most Recent)\"].max()\n",
    "end_of_period_min = df[\"Effective Date (Most Recent)\"].min()\n",
    "\n",
    "print(f\"Max End of Period: {end_of_period_max}\")\n",
    "print(f\"Min End of Period: {end_of_period_min}\")"
   ]
  },
  {
   "cell_type": "code",
   "execution_count": null,
   "id": "2abde02f-2620-4478-bfbf-d1987e3074a2",
   "metadata": {},
   "outputs": [],
   "source": []
  },
  {
   "cell_type": "code",
   "execution_count": null,
   "id": "10889b96-c1cd-4f3d-9dad-12791c59f674",
   "metadata": {},
   "outputs": [],
   "source": [
    "import seaborn as sns\n",
    "import matplotlib.pyplot as plt\n",
    "\n",
    "# Histogram\n",
    "plt.figure(figsize=(10,5))\n",
    "sns.histplot(data=df, x='Interest Rate', kde=True)  # kde=True will also plot a density line\n",
    "plt.title('Distribution of Interest Rates')\n",
    "plt.show()"
   ]
  },
  {
   "cell_type": "markdown",
   "id": "60c64b24",
   "metadata": {},
   "source": [
    "## IV.F. Data Visualization"
   ]
  },
  {
   "cell_type": "markdown",
   "id": "e16812eb",
   "metadata": {},
   "source": [
    "### IV.E.1. Region Distribution"
   ]
  },
  {
   "cell_type": "code",
   "execution_count": null,
   "id": "9ca3d111",
   "metadata": {},
   "outputs": [],
   "source": [
    "plt.title(\"Region Distribution\")\n",
    "region_distribution = sns.countplot(data = df,\n",
    "                                    x = \"Region\",\n",
    "                                    palette = \"Set1\")\n",
    "region_distribution.bar_label(region_distribution.containers[0])\n",
    "region_distribution.set_xticklabels(region_distribution.get_xticklabels(), rotation = 45, ha = 'right')\n",
    "plt.show()"
   ]
  },
  {
   "cell_type": "markdown",
   "id": "8951ef53-0d03-4170-8261-659ccbda952e",
   "metadata": {},
   "source": [
    "### IV.E.2. Loan Type Distribution"
   ]
  },
  {
   "cell_type": "code",
   "execution_count": null,
   "id": "54163305-ef2c-44cb-ba47-93c4ae9ecd15",
   "metadata": {},
   "outputs": [],
   "source": [
    "plt.title(\"Loan Type Distribution\")\n",
    "loan_type_distribution = sns.countplot(data = df,\n",
    "                                       x = \"Loan Type\",\n",
    "                                       palette = \"Set1\")\n",
    "loan_type_distribution.bar_label(region_distribution.containers[0])\n",
    "plt.show()"
   ]
  },
  {
   "cell_type": "markdown",
   "id": "575c3d65-293f-4367-afd2-c312ce2179c2",
   "metadata": {},
   "source": [
    "### IV.E.3. Loan Status Distribution"
   ]
  },
  {
   "cell_type": "code",
   "execution_count": null,
   "id": "c00f7bc5-e9aa-4cb8-bcce-974bcfda3cdf",
   "metadata": {},
   "outputs": [],
   "source": [
    "plt.title(\"Loan Status Distribution\")\n",
    "loan_status_distribution = sns.countplot(data = df,\n",
    "                                         x = \"Loan Status\",\n",
    "                                         palette = \"Set1\")\n",
    "loan_status_distribution.bar_label(loan_status_distribution.containers[0])\n",
    "loan_status_distribution.set_xticklabels(loan_status_distribution.get_xticklabels(), rotation = 45, ha = 'right')\n",
    "plt.show()"
   ]
  },
  {
   "cell_type": "markdown",
   "id": "1ddd8e20-e6e7-4bd1-b772-554a8961e670",
   "metadata": {},
   "source": [
    "### IV.E.4."
   ]
  },
  {
   "cell_type": "code",
   "execution_count": null,
   "id": "1c6d2487-f379-463c-985d-9729faaf800d",
   "metadata": {},
   "outputs": [],
   "source": [
    "plt.figure(figsize=(10,5))\n",
    "sns.histplot(data=df, x='Interest Rate', kde=True)  # kde=True will also plot a density line\n",
    "plt.title('Distribution of Interest Rates')\n",
    "plt.show()"
   ]
  },
  {
   "cell_type": "code",
   "execution_count": null,
   "id": "6b50adc4-c9d9-4055-9fd9-e6369bd4c7a3",
   "metadata": {},
   "outputs": [],
   "source": [
    "import plotly.express as px\n",
    "\n",
    "# This time we're counting the number of records for each 'Country'\n",
    "df_grouped = df['Country'].value_counts().reset_index()\n",
    "df_grouped.columns = ['Country', 'Count']  # renaming the columns appropriately\n",
    "\n",
    "fig = px.choropleth(df_grouped, locations='Country',\n",
    "                    locationmode='country names',  # to tell function that 'Country' column contains country names\n",
    "                    color='Count',  # column defining color intensity\n",
    "                    hover_name='Country',  # hover text\n",
    "                    color_continuous_scale=px.colors.sequential.Plasma,  # color scale\n",
    "                    title='Number of Records by Country')\n",
    "fig.show()\n"
   ]
  },
  {
   "cell_type": "code",
   "execution_count": null,
   "id": "3ce6257b-fbec-4902-87f9-88dd77236f41",
   "metadata": {},
   "outputs": [],
   "source": [
    "import plotly.express as px\n",
    "\n",
    "# This time we're counting the number of records for each 'Country'\n",
    "df_grouped = df['Country'].value_counts().reset_index()\n",
    "df_grouped.columns = ['Borrower', 'Count']  # renaming the columns appropriately\n",
    "\n",
    "fig = px.choropleth(df_grouped, locations='Borrower',\n",
    "                    locationmode='country names',  # to tell function that 'Country' column contains country names\n",
    "                    color='Count',  # column defining color intensity\n",
    "                    hover_name='Borrower',  # hover text\n",
    "                    color_continuous_scale=px.colors.sequential.Plasma,  # color scale\n",
    "                    title='Number of Records by Country')\n",
    "fig.show()\n"
   ]
  },
  {
   "cell_type": "code",
   "execution_count": null,
   "id": "b69bcf42-9f85-4b34-9d44-e7eff977779d",
   "metadata": {},
   "outputs": [],
   "source": [
    "import plotly.express as px\n",
    "\n",
    "# This time we're counting the number of records for each 'Country'\n",
    "df_grouped = df['Country'].value_counts().reset_index()\n",
    "df_grouped.columns = ['Guarantor', 'Count']  # renaming the columns appropriately\n",
    "\n",
    "fig = px.choropleth(df_grouped, locations='Guarantor',\n",
    "                    locationmode='country names',  # to tell function that 'Country' column contains country names\n",
    "                    color='Count',  # column defining color intensity\n",
    "                    hover_name='Guarantor',  # hover text\n",
    "                    color_continuous_scale=px.colors.sequential.Plasma,  # color scale\n",
    "                    title='Number of Records by Country')\n",
    "fig.show()\n"
   ]
  },
  {
   "cell_type": "markdown",
   "id": "3ff6c979",
   "metadata": {},
   "source": [
    "### IV.E.1. Target Label Proportion"
   ]
  },
  {
   "cell_type": "code",
   "execution_count": null,
   "id": "1cbce84c",
   "metadata": {},
   "outputs": [],
   "source": [
    "# Barplot\n",
    "plt.title(\"Target Label Proportion\")\n",
    "y_proportion = sns.countplot(data = y,\n",
    "                             x = y[\"target_label\"],\n",
    "                             palette = 'Blues')\n",
    "y_proportion.bar_label(y_proportion.containers[0])\n",
    "plt.show()"
   ]
  },
  {
   "cell_type": "code",
   "execution_count": null,
   "id": "b15cb341",
   "metadata": {},
   "outputs": [],
   "source": [
    "# Pie Chart\n",
    "plt.title(\"Target Label Proportion\")\n",
    "plt.pie(x = y.value_counts(),\n",
    "        labels = y[\"target_label\"].value_counts(),\n",
    "        colors = sns.color_palette('Set3'),\n",
    "        autopct = '%1.1f%%')\n",
    "plt.show()"
   ]
  },
  {
   "cell_type": "markdown",
   "id": "5887abda",
   "metadata": {},
   "source": [
    "## IV.F. Statistical Analysis"
   ]
  },
  {
   "cell_type": "markdown",
   "id": "1bbeb7bf",
   "metadata": {},
   "source": [
    "### IV.F.1. Statistical Description"
   ]
  },
  {
   "cell_type": "code",
   "execution_count": null,
   "id": "25e97f3a",
   "metadata": {},
   "outputs": [],
   "source": [
    "X.describe()"
   ]
  },
  {
   "cell_type": "markdown",
   "id": "5700c079",
   "metadata": {},
   "source": [
    "### IV.F.2. Skewness Analysis"
   ]
  },
  {
   "cell_type": "code",
   "execution_count": null,
   "id": "c406abea",
   "metadata": {},
   "outputs": [],
   "source": [
    "X_skewness = X.skew()\n",
    "X_skewness = pd.DataFrame({\"variables\": X_skewness.index, \"skewness\": X_skewness.values})"
   ]
  },
  {
   "cell_type": "code",
   "execution_count": null,
   "id": "49f548a5",
   "metadata": {},
   "outputs": [],
   "source": [
    "plt.title(\"Skewness Analysis\")\n",
    "plt.bar(X_skewness[\"variables\"], X_skewness[\"skewness\"])\n",
    "plt.xticks(rotation = 45)\n",
    "plt.xlabel(\"Variables\")\n",
    "plt.ylabel(\"Skewness\")\n",
    "plt.show()"
   ]
  },
  {
   "cell_type": "markdown",
   "id": "20ef1d49",
   "metadata": {},
   "source": [
    "### IV.F.3. Chi-Squared Analysis"
   ]
  },
  {
   "cell_type": "markdown",
   "id": "b2332920",
   "metadata": {},
   "source": [
    "Analyze the independence or dependence between categorical variables and assess the goodness of fit of observed data to an expected distribution."
   ]
  },
  {
   "cell_type": "code",
   "execution_count": null,
   "id": "37bd8972",
   "metadata": {},
   "outputs": [],
   "source": [
    "X_categorical = X.select_dtypes(include = 'object').copy()\n",
    "X_numerical = X.select_dtypes(include = 'number').copy()\n",
    "X_categorical.shape, X_numerical.shape"
   ]
  },
  {
   "cell_type": "code",
   "execution_count": null,
   "id": "fb1618b6",
   "metadata": {},
   "outputs": [],
   "source": [
    "X_categorical.columns"
   ]
  },
  {
   "cell_type": "code",
   "execution_count": null,
   "id": "474bd32a",
   "metadata": {},
   "outputs": [],
   "source": [
    "X_numerical.columns"
   ]
  },
  {
   "cell_type": "code",
   "execution_count": null,
   "id": "a7abbf5d",
   "metadata": {},
   "outputs": [],
   "source": [
    "chi2_result = pd.DataFrame(columns = [\"variables\", \"p-value\"])\n",
    "\n",
    "for column in X_categorical.columns:\n",
    "    cross_tab = pd.crosstab(y, X_categorical[column])\n",
    "    chi2, p_value, degree_of_freedom, expected_frequencies = chi2_contingency(cross_tab)\n",
    "    chi2_result = chi2_result.append({\"variables\": column, \"p-value\": round(p_value, 10)}, ignore_index = True)\n",
    "\n",
    "chi2_result.sort_values(by = \"p-value\", ascending = True, inplace = True, ignore_index = True)\n",
    "chi2_result"
   ]
  },
  {
   "cell_type": "markdown",
   "id": "f09d00aa",
   "metadata": {},
   "source": [
    "### IV.F.4. T-Statistics Analysis"
   ]
  },
  {
   "cell_type": "markdown",
   "id": "6d6cde08",
   "metadata": {},
   "source": [
    "Assess if there is a significant difference in means between two groups, such as comparing the mean scores of a continuous variable between two treatment groups."
   ]
  },
  {
   "cell_type": "code",
   "execution_count": null,
   "id": "24cc1b09",
   "metadata": {},
   "outputs": [],
   "source": [
    "X_numerical.fillna(X_numerical.mean(), inplace = True)"
   ]
  },
  {
   "cell_type": "code",
   "execution_count": null,
   "id": "c59f430f",
   "metadata": {},
   "outputs": [],
   "source": [
    "t_test_results = []\n",
    "for variable in X_numerical.columns:\n",
    "    group_0_values = X_numerical.loc[y == 0, variable]\n",
    "    group_1_values = X_numerical.loc[y == 1, variable]\n",
    "    t_statistic, p_value = ttest_ind(group_0_values, group_1_values)\n",
    "    t_test_results.append({\"variables\": variable, \"t-statistic\": t_statistic, \"p-value\": p_value})\n",
    "\n",
    "t_test_table = pd.DataFrame(t_test_results)\n",
    "t_test_table.sort_values(by = \"t-statistic\", ascending = False, inplace = True, ignore_index = True)\n",
    "t_test_table"
   ]
  },
  {
   "cell_type": "markdown",
   "id": "07b78587",
   "metadata": {},
   "source": [
    "### IV.F.5. ANOVA F Analysis"
   ]
  },
  {
   "cell_type": "markdown",
   "id": "13456aeb",
   "metadata": {},
   "source": [
    "Compare more than two groups, such as comparing the mean scores of a continuous variable among different experimental conditions."
   ]
  },
  {
   "cell_type": "code",
   "execution_count": null,
   "id": "f51c119b",
   "metadata": {},
   "outputs": [],
   "source": [
    "X_numerical.fillna(X_numerical.mean(), inplace = True)"
   ]
  },
  {
   "cell_type": "code",
   "execution_count": null,
   "id": "26cf9620",
   "metadata": {},
   "outputs": [],
   "source": [
    "f_statistic, p_values = f_classif(X_numerical, y)\n",
    "\n",
    "anova_f_table = pd.DataFrame({\"variables\": X_numerical.columns, \"f-score\": f_statistic, \"p-values\": p_values.round(decimals = 10)})\n",
    "anova_f_table.sort_values(by = \"f-score\", ascending = False, inplace = True, ignore_index = True)\n",
    "anova_f_table"
   ]
  },
  {
   "cell_type": "markdown",
   "id": "0e2f24b5",
   "metadata": {},
   "source": [
    "## IV.G. Correlation Matrix"
   ]
  },
  {
   "cell_type": "code",
   "execution_count": null,
   "id": "98170eb8",
   "metadata": {},
   "outputs": [],
   "source": [
    "X.corr()"
   ]
  },
  {
   "cell_type": "code",
   "execution_count": null,
   "id": "f75f2f35",
   "metadata": {},
   "outputs": [],
   "source": [
    "sns.heatmap(data = X.corr())"
   ]
  },
  {
   "cell_type": "markdown",
   "id": "4db39544",
   "metadata": {},
   "source": [
    "# V. Preprocessing"
   ]
  },
  {
   "cell_type": "markdown",
   "id": "660959cb",
   "metadata": {},
   "source": [
    "## V.A. Columns Reorder"
   ]
  },
  {
   "cell_type": "code",
   "execution_count": null,
   "id": "630e99ec",
   "metadata": {},
   "outputs": [],
   "source": [
    "custom_order = [\"column_0\", \"column_1\", \"column_2\"]"
   ]
  },
  {
   "cell_type": "code",
   "execution_count": null,
   "id": "13627417",
   "metadata": {},
   "outputs": [],
   "source": [
    "X = X.reindex(columns = custom_order)\n",
    "X.shape"
   ]
  },
  {
   "cell_type": "code",
   "execution_count": null,
   "id": "93e0afa2",
   "metadata": {},
   "outputs": [],
   "source": [
    "X.head()"
   ]
  },
  {
   "cell_type": "markdown",
   "id": "6cbc85d6",
   "metadata": {},
   "source": [
    "## V.B. Specific Preprocessing"
   ]
  },
  {
   "cell_type": "code",
   "execution_count": null,
   "id": "55725fe0",
   "metadata": {},
   "outputs": [],
   "source": []
  },
  {
   "cell_type": "markdown",
   "id": "7bbc15aa",
   "metadata": {},
   "source": [
    "## V.C. Imbalance Data Preprocessing"
   ]
  },
  {
   "cell_type": "markdown",
   "id": "ac4b496c",
   "metadata": {},
   "source": [
    "### V.C.1. Random Undersampling"
   ]
  },
  {
   "cell_type": "code",
   "execution_count": null,
   "id": "71c2ce3b",
   "metadata": {},
   "outputs": [],
   "source": [
    "rus = RandomUnderSampler(random_state = 777)\n",
    "X_undersampled, y_undersampled = rus.fit_resample(X, y)\n",
    "y_undersampled.value_counts()"
   ]
  },
  {
   "cell_type": "markdown",
   "id": "c46df40c",
   "metadata": {},
   "source": [
    "### V.C.2. Random Oversampling"
   ]
  },
  {
   "cell_type": "code",
   "execution_count": null,
   "id": "f89b9e05",
   "metadata": {},
   "outputs": [],
   "source": [
    "ros = RandomOverSampler(random_state = 777)\n",
    "X_oversampled, y_oversampled = ros.fit_resample(X, y)\n",
    "y_oversampled.value_counts()"
   ]
  },
  {
   "cell_type": "markdown",
   "id": "f7401606",
   "metadata": {},
   "source": [
    "### V.C.3. Synthetic Minority Oversampling Technique (SMOTE)"
   ]
  },
  {
   "cell_type": "code",
   "execution_count": null,
   "id": "5276f85c",
   "metadata": {},
   "outputs": [],
   "source": [
    "smote = SMOTE(random_state = 777)\n",
    "X_smote, y_smote = smote.fit_resample(X, y)\n",
    "y_smote.value_counts()"
   ]
  },
  {
   "cell_type": "markdown",
   "id": "91cf4fda",
   "metadata": {},
   "source": [
    "### V.C.4. Synthetic Minority Oversampling Technique for Nominal (SMOTEN)"
   ]
  },
  {
   "cell_type": "code",
   "execution_count": null,
   "id": "070ffed0",
   "metadata": {},
   "outputs": [],
   "source": [
    "smoten = SMOTEN(random_state = 777)\n",
    "X_smoten, y_smoten = smoten.fit_resample(X, y)\n",
    "y_smoten.value_counts()"
   ]
  },
  {
   "cell_type": "markdown",
   "id": "de166ced",
   "metadata": {},
   "source": [
    "### V.C.5. Adaptive Synthetic Sampling (ADASYN)"
   ]
  },
  {
   "cell_type": "code",
   "execution_count": null,
   "id": "ae797e9e",
   "metadata": {},
   "outputs": [],
   "source": [
    "adasyn = ADASYN(random_state = 777)\n",
    "X_adasyn, y_adasyn = adasyn.fit_resample(X, y)\n",
    "y_adasyn.value_counts()"
   ]
  },
  {
   "cell_type": "markdown",
   "id": "3a3cfafd",
   "metadata": {},
   "source": [
    "### V.C.6. KMeans Clustering + Synthetic Minority Oversampling Technique (SMOTE)"
   ]
  },
  {
   "cell_type": "code",
   "execution_count": null,
   "id": "a3e7a8be",
   "metadata": {},
   "outputs": [],
   "source": [
    "kmeanssmote = KMeansSMOTE(random_state = 777)\n",
    "X_kmeanssmote, y_kmeanssmote = kmeanssmote.fit_resample(X, y)\n",
    "y_kmeanssmote.value_counts()"
   ]
  },
  {
   "cell_type": "markdown",
   "id": "3605938d",
   "metadata": {},
   "source": [
    "### V.C.7. Support Vector Machine (SVM) + Synthetic Minority Oversampling Technique (SMOTE)"
   ]
  },
  {
   "cell_type": "code",
   "execution_count": null,
   "id": "3d0eba10",
   "metadata": {},
   "outputs": [],
   "source": [
    "svmsmote = SVMSMOTE(random_state = 777)\n",
    "X_svmsmote, y_svmsmote = svmsmote.fit_resample(X, y)\n",
    "y_svmsmote.value_counts()"
   ]
  },
  {
   "cell_type": "markdown",
   "id": "6bfa254d",
   "metadata": {},
   "source": [
    "### V.C.8. Synthetic Minority Oversampling Technique (SMOTE) + Edited Nearest Neighbour (ENN)"
   ]
  },
  {
   "cell_type": "code",
   "execution_count": null,
   "id": "3459ff52",
   "metadata": {},
   "outputs": [],
   "source": [
    "smoteenn = SMOTEENN(random_state = 777)\n",
    "X_smoteenn, y_smoteenn = smoteenn.fit_resample(X, y)\n",
    "y_smoteenn.value_counts()"
   ]
  },
  {
   "cell_type": "markdown",
   "id": "aebdbb6d",
   "metadata": {},
   "source": [
    "### V.C.9. Synthetic Minority Oversampling Technique (SMOTE) + Tomek Links"
   ]
  },
  {
   "cell_type": "code",
   "execution_count": null,
   "id": "e80b4048",
   "metadata": {},
   "outputs": [],
   "source": [
    "smotetomek = SMOTETomek(random_state = 777)\n",
    "X_smotetomek, y_smotetomek = smotetomek.fit_resample(X, y)\n",
    "y_smotetomek.value_counts()"
   ]
  },
  {
   "cell_type": "markdown",
   "id": "2fecc1df",
   "metadata": {},
   "source": [
    "## V.D. Data Splitting"
   ]
  },
  {
   "cell_type": "code",
   "execution_count": null,
   "id": "e55d1c55",
   "metadata": {},
   "outputs": [],
   "source": [
    "X_train, X_test, y_train, y_test = train_test_split(X, y, test_size = 0.3, random_state = 777)"
   ]
  },
  {
   "cell_type": "code",
   "execution_count": null,
   "id": "f86b7cba",
   "metadata": {},
   "outputs": [],
   "source": [
    "X_train.shape, X_test.shape"
   ]
  },
  {
   "cell_type": "code",
   "execution_count": null,
   "id": "daf718df",
   "metadata": {},
   "outputs": [],
   "source": [
    "y_train.shape, y_test.shape"
   ]
  },
  {
   "cell_type": "markdown",
   "id": "db69461a",
   "metadata": {},
   "source": [
    "## V.E. Export Data"
   ]
  },
  {
   "cell_type": "code",
   "execution_count": null,
   "id": "c0804fda",
   "metadata": {},
   "outputs": [],
   "source": [
    "X_train.to_pickle('../../data/processed/X_train.pkl')\n",
    "X_test.to_pickle('../../data/processed/X_test.pkl')\n",
    "y_train.to_pickle('../../data/processed/y_train.pkl')\n",
    "y_test.to_pickle('../../data/processed/y_test.pkl')"
   ]
  }
 ],
 "metadata": {
  "kernelspec": {
   "display_name": "Python 3 (ipykernel)",
   "language": "python",
   "name": "python3"
  },
  "language_info": {
   "codemirror_mode": {
    "name": "ipython",
    "version": 3
   },
   "file_extension": ".py",
   "mimetype": "text/x-python",
   "name": "python",
   "nbconvert_exporter": "python",
   "pygments_lexer": "ipython3",
   "version": "3.11.3"
  }
 },
 "nbformat": 4,
 "nbformat_minor": 5
}
