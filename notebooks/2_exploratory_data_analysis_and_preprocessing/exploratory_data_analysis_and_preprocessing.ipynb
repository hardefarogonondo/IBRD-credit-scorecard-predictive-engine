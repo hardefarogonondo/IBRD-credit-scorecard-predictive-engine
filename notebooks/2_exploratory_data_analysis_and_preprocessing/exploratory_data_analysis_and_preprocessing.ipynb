{
 "cells": [
  {
   "cell_type": "markdown",
   "id": "20203c0f",
   "metadata": {},
   "source": [
    "# I. Project Team Members"
   ]
  },
  {
   "cell_type": "markdown",
   "id": "0aa3d7f4",
   "metadata": {},
   "source": [
    "| Prepared by | Email | Prepared for |\n",
    "| :-: | :-: | :-: |\n",
    "| **Hardefa Rogonondo** | hardefarogonondo@gmail.com | **IBRD Credit Scorecard Predictive Engine** |"
   ]
  },
  {
   "cell_type": "markdown",
   "id": "b05cd469",
   "metadata": {},
   "source": [
    "# II. Notebook Target Definition"
   ]
  },
  {
   "cell_type": "markdown",
   "id": "47bae1d2",
   "metadata": {},
   "source": [
    "This notebook outlines the exploratory data analysis (EDA) and preprocessing stages for IBRD Loan Credit Scorecard Predictive Engine Project. Starting with the cleaned IBRD loan dataset, we dive into comprehensive EDA to discover patterns, anomalies, and relationships within the data, supported by various visualizations. During this process, we also handle missing values to maintain the integrity of our data. In the preprocessing stage, we normalize the data if necessary, making sure it's in the most suitable form for our future machine learning models. The outcome of this notebook is a ready-to-use, preprocessed dataset, setting the stage for the next step in our pipeline: feature engineering."
   ]
  },
  {
   "cell_type": "markdown",
   "id": "3213f42d",
   "metadata": {},
   "source": [
    "# III. Notebook Setup"
   ]
  },
  {
   "cell_type": "markdown",
   "id": "bb5c3810",
   "metadata": {},
   "source": [
    "## III.A. Import Libraries"
   ]
  },
  {
   "cell_type": "code",
   "execution_count": null,
   "id": "ac84c896",
   "metadata": {},
   "outputs": [],
   "source": [
    "import matplotlib.pyplot as plt\n",
    "import numpy as np\n",
    "import pandas as pd\n",
    "import pickle\n",
    "import seaborn as sns\n",
    "\n",
    "pd.set_option('display.max_columns', None)\n",
    "pd.set_option('display.max_rows', None)"
   ]
  },
  {
   "cell_type": "markdown",
   "id": "7291e85b",
   "metadata": {},
   "source": [
    "## III.B. Import Data"
   ]
  },
  {
   "cell_type": "code",
   "execution_count": null,
   "id": "2f425995",
   "metadata": {},
   "outputs": [],
   "source": [
    "df = pd.read_pickle('../../data/processed/df.pkl')\n",
    "df.head()"
   ]
  },
  {
   "cell_type": "markdown",
   "id": "f59e32c9",
   "metadata": {},
   "source": [
    "# IV. Exploratory Data Analysis"
   ]
  },
  {
   "cell_type": "markdown",
   "id": "db0a5756",
   "metadata": {},
   "source": [
    "## IV.A. Data Shape Inspection"
   ]
  },
  {
   "cell_type": "code",
   "execution_count": null,
   "id": "aad7798b",
   "metadata": {},
   "outputs": [],
   "source": [
    "df.shape"
   ]
  },
  {
   "cell_type": "markdown",
   "id": "3389b1bf",
   "metadata": {},
   "source": [
    "## IV.B. Data Information Inspection"
   ]
  },
  {
   "cell_type": "code",
   "execution_count": null,
   "id": "c6d7319a",
   "metadata": {},
   "outputs": [],
   "source": [
    "df.info()"
   ]
  },
  {
   "cell_type": "markdown",
   "id": "d050ddd4",
   "metadata": {},
   "source": [
    "## IV.C. Missing Values Inspection"
   ]
  },
  {
   "cell_type": "code",
   "execution_count": null,
   "id": "1f95221a",
   "metadata": {
    "scrolled": true
   },
   "outputs": [],
   "source": [
    "df_missing = pd.DataFrame(df.isnull().sum().sort_values() / len(df) * 100).reset_index()\n",
    "df_missing.columns = [\"variables\", \"missing_percentage\"]\n",
    "df_missing"
   ]
  },
  {
   "cell_type": "code",
   "execution_count": null,
   "id": "8fc9bffd",
   "metadata": {},
   "outputs": [],
   "source": [
    "sns.barplot(data = df_missing,\n",
    "            x = \"variables\",\n",
    "            y = \"missing_percentage\",\n",
    "            palette = 'Blues')\n",
    "plt.title(\"Dataset Null Values Proportion\")\n",
    "plt.xticks(rotation = 'vertical')\n",
    "plt.show()"
   ]
  },
  {
   "cell_type": "markdown",
   "id": "9c1b7798",
   "metadata": {},
   "source": [
    "### IV.C.1. Missing Values Handling"
   ]
  },
  {
   "cell_type": "code",
   "execution_count": null,
   "id": "03f171fc",
   "metadata": {},
   "outputs": [],
   "source": [
    "df.drop(columns = [\"Currency of Commitment\"], inplace = True)\n",
    "df.shape"
   ]
  },
  {
   "cell_type": "code",
   "execution_count": null,
   "id": "749fab7f",
   "metadata": {},
   "outputs": [],
   "source": [
    "df.head()"
   ]
  },
  {
   "cell_type": "markdown",
   "id": "330ea738",
   "metadata": {},
   "source": [
    "## IV.D. Duplicated Values Inspection"
   ]
  },
  {
   "cell_type": "code",
   "execution_count": null,
   "id": "45d41976",
   "metadata": {},
   "outputs": [],
   "source": [
    "df_duplicated = df[df.duplicated(keep = False)]\n",
    "df_duplicated.shape"
   ]
  },
  {
   "cell_type": "code",
   "execution_count": null,
   "id": "96e8bc3d",
   "metadata": {},
   "outputs": [],
   "source": [
    "df_duplicated"
   ]
  },
  {
   "cell_type": "markdown",
   "id": "38374bc0-52d1-4a98-aa20-c0f218d90b32",
   "metadata": {},
   "source": [
    "## IV.E. Preliminary Data Analysis"
   ]
  },
  {
   "cell_type": "markdown",
   "id": "035351bd-88b0-41a5-9791-ef7d85a90af1",
   "metadata": {},
   "source": [
    "### IV.E.1. Loans Agreement Signing Date Timespan Inspection"
   ]
  },
  {
   "cell_type": "code",
   "execution_count": null,
   "id": "3b83cbdd-94b9-4459-a133-ff61c2c9ae14",
   "metadata": {},
   "outputs": [],
   "source": [
    "agreement_date_max = df[\"Agreement Signing Date\"].max()\n",
    "agreement_date_min = df[\"Agreement Signing Date\"].min()\n",
    "\n",
    "print(f\"Max Agreement Signing Date: {agreement_date_max}\")\n",
    "print(f\"Min Agreement Signing Date: {agreement_date_min}\")"
   ]
  },
  {
   "cell_type": "markdown",
   "id": "f114f1e2-c226-41c2-920a-b4f37784cf67",
   "metadata": {},
   "source": [
    "### IV.E.2. Board Approval Date Timespan Inspection"
   ]
  },
  {
   "cell_type": "code",
   "execution_count": null,
   "id": "98b19f14-c6d9-415b-a5d5-0434fb7a8e17",
   "metadata": {},
   "outputs": [],
   "source": [
    "board_approval_max = df[\"Board Approval Date\"].max()\n",
    "board_approval_min = df[\"Board Approval Date\"].min()\n",
    "\n",
    "print(f\"Max Board Approval Date: {board_approval_max}\")\n",
    "print(f\"Min Board Approval Date: {board_approval_min}\")"
   ]
  },
  {
   "cell_type": "markdown",
   "id": "ec0bee04-d55c-41af-9070-8fb393209d7f",
   "metadata": {},
   "source": [
    "### IV.E.3. Loans Effective Date Timespan Inspection"
   ]
  },
  {
   "cell_type": "code",
   "execution_count": null,
   "id": "c45cf277-dddb-4e70-8e44-d32a2979fbff",
   "metadata": {},
   "outputs": [],
   "source": [
    "effective_date_max = df[\"Effective Date (Most Recent)\"].max()\n",
    "effective_date_min = df[\"Effective Date (Most Recent)\"].min()\n",
    "\n",
    "print(f\"Max Effective Date: {effective_date_max}\")\n",
    "print(f\"Min Effective Date: {effective_date_min}\")"
   ]
  },
  {
   "cell_type": "markdown",
   "id": "60c64b24",
   "metadata": {},
   "source": [
    "## IV.F. Data Visualization"
   ]
  },
  {
   "cell_type": "markdown",
   "id": "e16812eb",
   "metadata": {},
   "source": [
    "### IV.F.1. Region Distribution"
   ]
  },
  {
   "cell_type": "code",
   "execution_count": null,
   "id": "9ca3d111",
   "metadata": {},
   "outputs": [],
   "source": [
    "plt.title(\"Region Distribution\")\n",
    "region_distribution = sns.countplot(data = df,\n",
    "                                    x = \"Region\",\n",
    "                                    palette = \"Set1\")\n",
    "region_distribution.bar_label(region_distribution.containers[0])\n",
    "region_distribution.set_xticklabels(region_distribution.get_xticklabels(), rotation = 45, ha = 'right')\n",
    "plt.show()"
   ]
  },
  {
   "cell_type": "markdown",
   "id": "dcb029e8-71d9-4cf4-917a-53db1dd7dc46",
   "metadata": {},
   "source": [
    "### IV.F.2. Country Distribution"
   ]
  },
  {
   "cell_type": "code",
   "execution_count": null,
   "id": "6890845c-fed5-46b3-ab5c-e720c9cef1f9",
   "metadata": {},
   "outputs": [],
   "source": []
  },
  {
   "cell_type": "markdown",
   "id": "8951ef53-0d03-4170-8261-659ccbda952e",
   "metadata": {},
   "source": [
    "### IV.E.2. Loan Type Distribution"
   ]
  },
  {
   "cell_type": "code",
   "execution_count": null,
   "id": "54163305-ef2c-44cb-ba47-93c4ae9ecd15",
   "metadata": {},
   "outputs": [],
   "source": [
    "plt.title(\"Loan Type Distribution\")\n",
    "loan_type_distribution = sns.countplot(data = df,\n",
    "                                       x = \"Loan Type\",\n",
    "                                       palette = \"Set1\")\n",
    "loan_type_distribution.bar_label(region_distribution.containers[0])\n",
    "plt.show()"
   ]
  },
  {
   "cell_type": "markdown",
   "id": "575c3d65-293f-4367-afd2-c312ce2179c2",
   "metadata": {},
   "source": [
    "### IV.E.3. Loan Status Distribution"
   ]
  },
  {
   "cell_type": "code",
   "execution_count": null,
   "id": "c00f7bc5-e9aa-4cb8-bcce-974bcfda3cdf",
   "metadata": {},
   "outputs": [],
   "source": [
    "plt.title(\"Loan Status Distribution\")\n",
    "loan_status_distribution = sns.countplot(data = df,\n",
    "                                         x = \"Loan Status\",\n",
    "                                         palette = \"Set1\")\n",
    "loan_status_distribution.bar_label(loan_status_distribution.containers[0])\n",
    "loan_status_distribution.set_xticklabels(loan_status_distribution.get_xticklabels(), rotation = 45, ha = 'right')\n",
    "plt.show()"
   ]
  },
  {
   "cell_type": "markdown",
   "id": "1ddd8e20-e6e7-4bd1-b772-554a8961e670",
   "metadata": {},
   "source": [
    "### IV.E.4."
   ]
  },
  {
   "cell_type": "code",
   "execution_count": null,
   "id": "10889b96-c1cd-4f3d-9dad-12791c59f674",
   "metadata": {},
   "outputs": [],
   "source": [
    "import seaborn as sns\n",
    "import matplotlib.pyplot as plt\n",
    "\n",
    "# Histogram\n",
    "plt.figure(figsize=(10,5))\n",
    "sns.histplot(data=df, x='Interest Rate', kde=True)  # kde=True will also plot a density line\n",
    "plt.title('Distribution of Interest Rates')\n",
    "plt.show()"
   ]
  },
  {
   "cell_type": "code",
   "execution_count": null,
   "id": "1c6d2487-f379-463c-985d-9729faaf800d",
   "metadata": {},
   "outputs": [],
   "source": [
    "plt.figure(figsize=(10,5))\n",
    "sns.histplot(data=df, x='Interest Rate', kde=True)  # kde=True will also plot a density line\n",
    "plt.title('Distribution of Interest Rates')\n",
    "plt.show()"
   ]
  },
  {
   "cell_type": "code",
   "execution_count": null,
   "id": "6b50adc4-c9d9-4055-9fd9-e6369bd4c7a3",
   "metadata": {},
   "outputs": [],
   "source": [
    "import plotly.express as px\n",
    "\n",
    "# This time we're counting the number of records for each 'Country'\n",
    "df_grouped = df['Country'].value_counts().reset_index()\n",
    "df_grouped.columns = ['Country', 'Count']  # renaming the columns appropriately\n",
    "\n",
    "fig = px.choropleth(df_grouped, locations='Country',\n",
    "                    locationmode='country names',  # to tell function that 'Country' column contains country names\n",
    "                    color='Count',  # column defining color intensity\n",
    "                    hover_name='Country',  # hover text\n",
    "                    color_continuous_scale=px.colors.sequential.Plasma,  # color scale\n",
    "                    title='Number of Records by Country')\n",
    "fig.show()\n"
   ]
  },
  {
   "cell_type": "code",
   "execution_count": null,
   "id": "3ce6257b-fbec-4902-87f9-88dd77236f41",
   "metadata": {},
   "outputs": [],
   "source": [
    "import plotly.express as px\n",
    "\n",
    "# This time we're counting the number of records for each 'Country'\n",
    "df_grouped = df['Country'].value_counts().reset_index()\n",
    "df_grouped.columns = ['Borrower', 'Count']  # renaming the columns appropriately\n",
    "\n",
    "fig = px.choropleth(df_grouped, locations='Borrower',\n",
    "                    locationmode='country names',  # to tell function that 'Country' column contains country names\n",
    "                    color='Count',  # column defining color intensity\n",
    "                    hover_name='Borrower',  # hover text\n",
    "                    color_continuous_scale=px.colors.sequential.Plasma,  # color scale\n",
    "                    title='Number of Records by Country')\n",
    "fig.show()\n"
   ]
  },
  {
   "cell_type": "code",
   "execution_count": null,
   "id": "b69bcf42-9f85-4b34-9d44-e7eff977779d",
   "metadata": {},
   "outputs": [],
   "source": [
    "import plotly.express as px\n",
    "\n",
    "# This time we're counting the number of records for each 'Country'\n",
    "df_grouped = df['Country'].value_counts().reset_index()\n",
    "df_grouped.columns = ['Guarantor', 'Count']  # renaming the columns appropriately\n",
    "\n",
    "fig = px.choropleth(df_grouped, locations='Guarantor',\n",
    "                    locationmode='country names',  # to tell function that 'Country' column contains country names\n",
    "                    color='Count',  # column defining color intensity\n",
    "                    hover_name='Guarantor',  # hover text\n",
    "                    color_continuous_scale=px.colors.sequential.Plasma,  # color scale\n",
    "                    title='Number of Records by Country')\n",
    "fig.show()\n"
   ]
  },
  {
   "cell_type": "markdown",
   "id": "3ff6c979",
   "metadata": {},
   "source": [
    "### IV.E.1. Target Label Proportion"
   ]
  },
  {
   "cell_type": "code",
   "execution_count": null,
   "id": "1cbce84c",
   "metadata": {},
   "outputs": [],
   "source": [
    "# Barplot\n",
    "plt.title(\"Target Label Proportion\")\n",
    "y_proportion = sns.countplot(data = y,\n",
    "                             x = y[\"target_label\"],\n",
    "                             palette = 'Blues')\n",
    "y_proportion.bar_label(y_proportion.containers[0])\n",
    "plt.show()"
   ]
  },
  {
   "cell_type": "code",
   "execution_count": null,
   "id": "b15cb341",
   "metadata": {},
   "outputs": [],
   "source": [
    "# Pie Chart\n",
    "plt.title(\"Target Label Proportion\")\n",
    "plt.pie(x = y.value_counts(),\n",
    "        labels = y[\"target_label\"].value_counts(),\n",
    "        colors = sns.color_palette('Set3'),\n",
    "        autopct = '%1.1f%%')\n",
    "plt.show()"
   ]
  },
  {
   "cell_type": "markdown",
   "id": "5887abda",
   "metadata": {},
   "source": [
    "## IV.F. Statistical Analysis"
   ]
  },
  {
   "cell_type": "markdown",
   "id": "1bbeb7bf",
   "metadata": {},
   "source": [
    "### IV.F.1. Statistical Description"
   ]
  },
  {
   "cell_type": "code",
   "execution_count": null,
   "id": "25e97f3a",
   "metadata": {},
   "outputs": [],
   "source": [
    "X.describe()"
   ]
  },
  {
   "cell_type": "markdown",
   "id": "5700c079",
   "metadata": {},
   "source": [
    "### IV.F.2. Skewness Analysis"
   ]
  },
  {
   "cell_type": "code",
   "execution_count": null,
   "id": "c406abea",
   "metadata": {},
   "outputs": [],
   "source": [
    "X_skewness = X.skew()\n",
    "X_skewness = pd.DataFrame({\"variables\": X_skewness.index, \"skewness\": X_skewness.values})"
   ]
  },
  {
   "cell_type": "code",
   "execution_count": null,
   "id": "49f548a5",
   "metadata": {},
   "outputs": [],
   "source": [
    "plt.title(\"Skewness Analysis\")\n",
    "plt.bar(X_skewness[\"variables\"], X_skewness[\"skewness\"])\n",
    "plt.xticks(rotation = 45)\n",
    "plt.xlabel(\"Variables\")\n",
    "plt.ylabel(\"Skewness\")\n",
    "plt.show()"
   ]
  },
  {
   "cell_type": "markdown",
   "id": "20ef1d49",
   "metadata": {},
   "source": [
    "### IV.F.3. Chi-Squared Analysis"
   ]
  },
  {
   "cell_type": "markdown",
   "id": "b2332920",
   "metadata": {},
   "source": [
    "Analyze the independence or dependence between categorical variables and assess the goodness of fit of observed data to an expected distribution."
   ]
  },
  {
   "cell_type": "code",
   "execution_count": null,
   "id": "37bd8972",
   "metadata": {},
   "outputs": [],
   "source": [
    "X_categorical = X.select_dtypes(include = 'object').copy()\n",
    "X_numerical = X.select_dtypes(include = 'number').copy()\n",
    "X_categorical.shape, X_numerical.shape"
   ]
  },
  {
   "cell_type": "code",
   "execution_count": null,
   "id": "fb1618b6",
   "metadata": {},
   "outputs": [],
   "source": [
    "X_categorical.columns"
   ]
  },
  {
   "cell_type": "code",
   "execution_count": null,
   "id": "474bd32a",
   "metadata": {},
   "outputs": [],
   "source": [
    "X_numerical.columns"
   ]
  },
  {
   "cell_type": "code",
   "execution_count": null,
   "id": "a7abbf5d",
   "metadata": {},
   "outputs": [],
   "source": [
    "chi2_result = pd.DataFrame(columns = [\"variables\", \"p-value\"])\n",
    "\n",
    "for column in X_categorical.columns:\n",
    "    cross_tab = pd.crosstab(y, X_categorical[column])\n",
    "    chi2, p_value, degree_of_freedom, expected_frequencies = chi2_contingency(cross_tab)\n",
    "    chi2_result = chi2_result.append({\"variables\": column, \"p-value\": round(p_value, 10)}, ignore_index = True)\n",
    "\n",
    "chi2_result.sort_values(by = \"p-value\", ascending = True, inplace = True, ignore_index = True)\n",
    "chi2_result"
   ]
  },
  {
   "cell_type": "markdown",
   "id": "f09d00aa",
   "metadata": {},
   "source": [
    "### IV.F.4. T-Statistics Analysis"
   ]
  },
  {
   "cell_type": "markdown",
   "id": "6d6cde08",
   "metadata": {},
   "source": [
    "Assess if there is a significant difference in means between two groups, such as comparing the mean scores of a continuous variable between two treatment groups."
   ]
  },
  {
   "cell_type": "code",
   "execution_count": null,
   "id": "24cc1b09",
   "metadata": {},
   "outputs": [],
   "source": [
    "X_numerical.fillna(X_numerical.mean(), inplace = True)"
   ]
  },
  {
   "cell_type": "code",
   "execution_count": null,
   "id": "c59f430f",
   "metadata": {},
   "outputs": [],
   "source": [
    "t_test_results = []\n",
    "for variable in X_numerical.columns:\n",
    "    group_0_values = X_numerical.loc[y == 0, variable]\n",
    "    group_1_values = X_numerical.loc[y == 1, variable]\n",
    "    t_statistic, p_value = ttest_ind(group_0_values, group_1_values)\n",
    "    t_test_results.append({\"variables\": variable, \"t-statistic\": t_statistic, \"p-value\": p_value})\n",
    "\n",
    "t_test_table = pd.DataFrame(t_test_results)\n",
    "t_test_table.sort_values(by = \"t-statistic\", ascending = False, inplace = True, ignore_index = True)\n",
    "t_test_table"
   ]
  },
  {
   "cell_type": "markdown",
   "id": "07b78587",
   "metadata": {},
   "source": [
    "### IV.F.5. ANOVA F Analysis"
   ]
  },
  {
   "cell_type": "markdown",
   "id": "13456aeb",
   "metadata": {},
   "source": [
    "Compare more than two groups, such as comparing the mean scores of a continuous variable among different experimental conditions."
   ]
  },
  {
   "cell_type": "code",
   "execution_count": null,
   "id": "f51c119b",
   "metadata": {},
   "outputs": [],
   "source": [
    "X_numerical.fillna(X_numerical.mean(), inplace = True)"
   ]
  },
  {
   "cell_type": "code",
   "execution_count": null,
   "id": "26cf9620",
   "metadata": {},
   "outputs": [],
   "source": [
    "f_statistic, p_values = f_classif(X_numerical, y)\n",
    "\n",
    "anova_f_table = pd.DataFrame({\"variables\": X_numerical.columns, \"f-score\": f_statistic, \"p-values\": p_values.round(decimals = 10)})\n",
    "anova_f_table.sort_values(by = \"f-score\", ascending = False, inplace = True, ignore_index = True)\n",
    "anova_f_table"
   ]
  },
  {
   "cell_type": "markdown",
   "id": "0e2f24b5",
   "metadata": {},
   "source": [
    "## IV.G. Correlation Matrix"
   ]
  },
  {
   "cell_type": "code",
   "execution_count": null,
   "id": "98170eb8",
   "metadata": {},
   "outputs": [],
   "source": [
    "X.corr()"
   ]
  },
  {
   "cell_type": "code",
   "execution_count": null,
   "id": "f75f2f35",
   "metadata": {},
   "outputs": [],
   "source": [
    "sns.heatmap(data = X.corr())"
   ]
  },
  {
   "cell_type": "markdown",
   "id": "4db39544",
   "metadata": {},
   "source": [
    "# V. Preprocessing"
   ]
  },
  {
   "cell_type": "markdown",
   "id": "660959cb",
   "metadata": {},
   "source": [
    "## V.A. Columns Reorder"
   ]
  },
  {
   "cell_type": "code",
   "execution_count": null,
   "id": "630e99ec",
   "metadata": {},
   "outputs": [],
   "source": [
    "custom_order = [\"column_0\", \"column_1\", \"column_2\"]"
   ]
  },
  {
   "cell_type": "code",
   "execution_count": null,
   "id": "13627417",
   "metadata": {},
   "outputs": [],
   "source": [
    "X = X.reindex(columns = custom_order)\n",
    "X.shape"
   ]
  },
  {
   "cell_type": "code",
   "execution_count": null,
   "id": "93e0afa2",
   "metadata": {},
   "outputs": [],
   "source": [
    "X.head()"
   ]
  },
  {
   "cell_type": "markdown",
   "id": "6cbc85d6",
   "metadata": {},
   "source": [
    "## V.B. Specific Preprocessing"
   ]
  },
  {
   "cell_type": "code",
   "execution_count": null,
   "id": "55725fe0",
   "metadata": {},
   "outputs": [],
   "source": []
  },
  {
   "cell_type": "markdown",
   "id": "7bbc15aa",
   "metadata": {},
   "source": [
    "## V.C. Imbalance Data Preprocessing"
   ]
  },
  {
   "cell_type": "markdown",
   "id": "ac4b496c",
   "metadata": {},
   "source": [
    "### V.C.1. Random Undersampling"
   ]
  },
  {
   "cell_type": "code",
   "execution_count": null,
   "id": "71c2ce3b",
   "metadata": {},
   "outputs": [],
   "source": [
    "rus = RandomUnderSampler(random_state = 777)\n",
    "X_undersampled, y_undersampled = rus.fit_resample(X, y)\n",
    "y_undersampled.value_counts()"
   ]
  },
  {
   "cell_type": "markdown",
   "id": "c46df40c",
   "metadata": {},
   "source": [
    "### V.C.2. Random Oversampling"
   ]
  },
  {
   "cell_type": "code",
   "execution_count": null,
   "id": "f89b9e05",
   "metadata": {},
   "outputs": [],
   "source": [
    "ros = RandomOverSampler(random_state = 777)\n",
    "X_oversampled, y_oversampled = ros.fit_resample(X, y)\n",
    "y_oversampled.value_counts()"
   ]
  },
  {
   "cell_type": "markdown",
   "id": "f7401606",
   "metadata": {},
   "source": [
    "### V.C.3. Synthetic Minority Oversampling Technique (SMOTE)"
   ]
  },
  {
   "cell_type": "code",
   "execution_count": null,
   "id": "5276f85c",
   "metadata": {},
   "outputs": [],
   "source": [
    "smote = SMOTE(random_state = 777)\n",
    "X_smote, y_smote = smote.fit_resample(X, y)\n",
    "y_smote.value_counts()"
   ]
  },
  {
   "cell_type": "markdown",
   "id": "91cf4fda",
   "metadata": {},
   "source": [
    "### V.C.4. Synthetic Minority Oversampling Technique for Nominal (SMOTEN)"
   ]
  },
  {
   "cell_type": "code",
   "execution_count": null,
   "id": "070ffed0",
   "metadata": {},
   "outputs": [],
   "source": [
    "smoten = SMOTEN(random_state = 777)\n",
    "X_smoten, y_smoten = smoten.fit_resample(X, y)\n",
    "y_smoten.value_counts()"
   ]
  },
  {
   "cell_type": "markdown",
   "id": "de166ced",
   "metadata": {},
   "source": [
    "### V.C.5. Adaptive Synthetic Sampling (ADASYN)"
   ]
  },
  {
   "cell_type": "code",
   "execution_count": null,
   "id": "ae797e9e",
   "metadata": {},
   "outputs": [],
   "source": [
    "adasyn = ADASYN(random_state = 777)\n",
    "X_adasyn, y_adasyn = adasyn.fit_resample(X, y)\n",
    "y_adasyn.value_counts()"
   ]
  },
  {
   "cell_type": "markdown",
   "id": "3a3cfafd",
   "metadata": {},
   "source": [
    "### V.C.6. KMeans Clustering + Synthetic Minority Oversampling Technique (SMOTE)"
   ]
  },
  {
   "cell_type": "code",
   "execution_count": null,
   "id": "a3e7a8be",
   "metadata": {},
   "outputs": [],
   "source": [
    "kmeanssmote = KMeansSMOTE(random_state = 777)\n",
    "X_kmeanssmote, y_kmeanssmote = kmeanssmote.fit_resample(X, y)\n",
    "y_kmeanssmote.value_counts()"
   ]
  },
  {
   "cell_type": "markdown",
   "id": "3605938d",
   "metadata": {},
   "source": [
    "### V.C.7. Support Vector Machine (SVM) + Synthetic Minority Oversampling Technique (SMOTE)"
   ]
  },
  {
   "cell_type": "code",
   "execution_count": null,
   "id": "3d0eba10",
   "metadata": {},
   "outputs": [],
   "source": [
    "svmsmote = SVMSMOTE(random_state = 777)\n",
    "X_svmsmote, y_svmsmote = svmsmote.fit_resample(X, y)\n",
    "y_svmsmote.value_counts()"
   ]
  },
  {
   "cell_type": "markdown",
   "id": "6bfa254d",
   "metadata": {},
   "source": [
    "### V.C.8. Synthetic Minority Oversampling Technique (SMOTE) + Edited Nearest Neighbour (ENN)"
   ]
  },
  {
   "cell_type": "code",
   "execution_count": null,
   "id": "3459ff52",
   "metadata": {},
   "outputs": [],
   "source": [
    "smoteenn = SMOTEENN(random_state = 777)\n",
    "X_smoteenn, y_smoteenn = smoteenn.fit_resample(X, y)\n",
    "y_smoteenn.value_counts()"
   ]
  },
  {
   "cell_type": "markdown",
   "id": "aebdbb6d",
   "metadata": {},
   "source": [
    "### V.C.9. Synthetic Minority Oversampling Technique (SMOTE) + Tomek Links"
   ]
  },
  {
   "cell_type": "code",
   "execution_count": null,
   "id": "e80b4048",
   "metadata": {},
   "outputs": [],
   "source": [
    "smotetomek = SMOTETomek(random_state = 777)\n",
    "X_smotetomek, y_smotetomek = smotetomek.fit_resample(X, y)\n",
    "y_smotetomek.value_counts()"
   ]
  },
  {
   "cell_type": "markdown",
   "id": "2fecc1df",
   "metadata": {},
   "source": [
    "## V.D. Data Splitting"
   ]
  },
  {
   "cell_type": "code",
   "execution_count": null,
   "id": "e55d1c55",
   "metadata": {},
   "outputs": [],
   "source": [
    "X_train, X_test, y_train, y_test = train_test_split(X, y, test_size = 0.3, random_state = 777)"
   ]
  },
  {
   "cell_type": "code",
   "execution_count": null,
   "id": "f86b7cba",
   "metadata": {},
   "outputs": [],
   "source": [
    "X_train.shape, X_test.shape"
   ]
  },
  {
   "cell_type": "code",
   "execution_count": null,
   "id": "daf718df",
   "metadata": {},
   "outputs": [],
   "source": [
    "y_train.shape, y_test.shape"
   ]
  },
  {
   "cell_type": "markdown",
   "id": "db69461a",
   "metadata": {},
   "source": [
    "## V.E. Export Data"
   ]
  },
  {
   "cell_type": "code",
   "execution_count": null,
   "id": "c0804fda",
   "metadata": {},
   "outputs": [],
   "source": [
    "X_train.to_pickle('../../data/processed/X_train.pkl')\n",
    "X_test.to_pickle('../../data/processed/X_test.pkl')\n",
    "y_train.to_pickle('../../data/processed/y_train.pkl')\n",
    "y_test.to_pickle('../../data/processed/y_test.pkl')"
   ]
  }
 ],
 "metadata": {
  "kernelspec": {
   "display_name": "Python 3 (ipykernel)",
   "language": "python",
   "name": "python3"
  },
  "language_info": {
   "codemirror_mode": {
    "name": "ipython",
    "version": 3
   },
   "file_extension": ".py",
   "mimetype": "text/x-python",
   "name": "python",
   "nbconvert_exporter": "python",
   "pygments_lexer": "ipython3",
   "version": "3.11.3"
  }
 },
 "nbformat": 4,
 "nbformat_minor": 5
}
